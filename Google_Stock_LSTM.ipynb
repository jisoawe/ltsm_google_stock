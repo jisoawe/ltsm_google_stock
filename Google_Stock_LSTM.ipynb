{
 "cells": [
  {
   "cell_type": "markdown",
   "id": "46ebb3b4-3e03-4e01-b1a3-38a7d5d0c2ca",
   "metadata": {},
   "source": [
    "# Google Stock Price LSTM\n",
    "### By Mojisoluwa Awe\n",
    "\n",
    "In this notebook I will be exmaining stock price data for Google from 2004 to 2024, leveraging a dataset I found on Kaggle. First, I will go through some Exploratory Data Analysis to gain a better understanding of the data before building and examining a LSTM model to predict the Closing Price of the stock.\n",
    "\n",
    "If you have any suggestions or comments please feel free to reach out!"
   ]
  },
  {
   "cell_type": "code",
   "execution_count": 1,
   "id": "add1f964-a338-4ff8-a5b0-53bcfe052500",
   "metadata": {},
   "outputs": [],
   "source": [
    "import pandas as pd\n",
    "import numpy as np\n",
    "import matplotlib.pyplot as plt\n",
    "import seaborn as sns\n",
    "import mplfinance as mpf\n",
    "import torch\n",
    "from torch import nn\n",
    "from torch.utils.data import DataLoader, TensorDataset\n",
    "from sklearn.preprocessing import MinMaxScaler\n",
    "from sklearn.metrics import mean_absolute_error, mean_squared_error\n",
    "from tqdm.notebook import tqdm"
   ]
  },
  {
   "cell_type": "code",
   "execution_count": 13,
   "id": "9e43622c-fe5a-44f5-886d-30645bfb1536",
   "metadata": {},
   "outputs": [
    {
     "data": {
      "text/html": [
       "<div>\n",
       "<style scoped>\n",
       "    .dataframe tbody tr th:only-of-type {\n",
       "        vertical-align: middle;\n",
       "    }\n",
       "\n",
       "    .dataframe tbody tr th {\n",
       "        vertical-align: top;\n",
       "    }\n",
       "\n",
       "    .dataframe thead th {\n",
       "        text-align: right;\n",
       "    }\n",
       "</style>\n",
       "<table border=\"1\" class=\"dataframe\">\n",
       "  <thead>\n",
       "    <tr style=\"text-align: right;\">\n",
       "      <th></th>\n",
       "      <th>Date</th>\n",
       "      <th>Open</th>\n",
       "      <th>High</th>\n",
       "      <th>Low</th>\n",
       "      <th>Close</th>\n",
       "      <th>Adj Close</th>\n",
       "      <th>Volume</th>\n",
       "    </tr>\n",
       "  </thead>\n",
       "  <tbody>\n",
       "    <tr>\n",
       "      <th>0</th>\n",
       "      <td>2004-08-19</td>\n",
       "      <td>2.502503</td>\n",
       "      <td>2.604104</td>\n",
       "      <td>2.401401</td>\n",
       "      <td>2.511011</td>\n",
       "      <td>2.501941</td>\n",
       "      <td>893181924</td>\n",
       "    </tr>\n",
       "    <tr>\n",
       "      <th>1</th>\n",
       "      <td>2004-08-20</td>\n",
       "      <td>2.527778</td>\n",
       "      <td>2.729730</td>\n",
       "      <td>2.515015</td>\n",
       "      <td>2.710460</td>\n",
       "      <td>2.700670</td>\n",
       "      <td>456686856</td>\n",
       "    </tr>\n",
       "    <tr>\n",
       "      <th>2</th>\n",
       "      <td>2004-08-23</td>\n",
       "      <td>2.771522</td>\n",
       "      <td>2.839840</td>\n",
       "      <td>2.728979</td>\n",
       "      <td>2.737738</td>\n",
       "      <td>2.727849</td>\n",
       "      <td>365122512</td>\n",
       "    </tr>\n",
       "    <tr>\n",
       "      <th>3</th>\n",
       "      <td>2004-08-24</td>\n",
       "      <td>2.783784</td>\n",
       "      <td>2.792793</td>\n",
       "      <td>2.591842</td>\n",
       "      <td>2.624374</td>\n",
       "      <td>2.614895</td>\n",
       "      <td>304946748</td>\n",
       "    </tr>\n",
       "    <tr>\n",
       "      <th>4</th>\n",
       "      <td>2004-08-25</td>\n",
       "      <td>2.626627</td>\n",
       "      <td>2.702703</td>\n",
       "      <td>2.599600</td>\n",
       "      <td>2.652653</td>\n",
       "      <td>2.643072</td>\n",
       "      <td>183772044</td>\n",
       "    </tr>\n",
       "  </tbody>\n",
       "</table>\n",
       "</div>"
      ],
      "text/plain": [
       "         Date      Open      High       Low     Close  Adj Close     Volume\n",
       "0  2004-08-19  2.502503  2.604104  2.401401  2.511011   2.501941  893181924\n",
       "1  2004-08-20  2.527778  2.729730  2.515015  2.710460   2.700670  456686856\n",
       "2  2004-08-23  2.771522  2.839840  2.728979  2.737738   2.727849  365122512\n",
       "3  2004-08-24  2.783784  2.792793  2.591842  2.624374   2.614895  304946748\n",
       "4  2004-08-25  2.626627  2.702703  2.599600  2.652653   2.643072  183772044"
      ]
     },
     "execution_count": 13,
     "metadata": {},
     "output_type": "execute_result"
    }
   ],
   "source": [
    "df = pd.read_csv('GOOGL_2004-08-01_2024-12-18.csv')\n",
    "df.head()"
   ]
  },
  {
   "cell_type": "code",
   "execution_count": 14,
   "id": "8c31389b-5126-4211-90db-a445646e7204",
   "metadata": {},
   "outputs": [],
   "source": [
    "df['Date'] = pd.to_datetime(df.Date)"
   ]
  },
  {
   "cell_type": "code",
   "execution_count": 15,
   "id": "0d858765-7f2c-4ec5-bcdf-479a60843c55",
   "metadata": {},
   "outputs": [],
   "source": [
    "df['Daily_Return'] = df['Close'].pct_change() * 100"
   ]
  },
  {
   "cell_type": "code",
   "execution_count": 47,
   "id": "5c4e7986-78c0-479b-9125-a006d2ec6733",
   "metadata": {},
   "outputs": [],
   "source": [
    "df['Daily_Change'] = df['Close'] - df['Open']"
   ]
  },
  {
   "cell_type": "code",
   "execution_count": 16,
   "id": "772b9310-7ad8-43c0-bce3-7bcb53b4bc29",
   "metadata": {},
   "outputs": [
    {
     "name": "stdout",
     "output_type": "stream",
     "text": [
      "<class 'pandas.core.frame.DataFrame'>\n",
      "RangeIndex: 5118 entries, 0 to 5117\n",
      "Data columns (total 8 columns):\n",
      " #   Column        Non-Null Count  Dtype         \n",
      "---  ------        --------------  -----         \n",
      " 0   Date          5118 non-null   datetime64[ns]\n",
      " 1   Open          5118 non-null   float64       \n",
      " 2   High          5118 non-null   float64       \n",
      " 3   Low           5118 non-null   float64       \n",
      " 4   Close         5118 non-null   float64       \n",
      " 5   Adj Close     5118 non-null   float64       \n",
      " 6   Volume        5118 non-null   int64         \n",
      " 7   Daily_Return  5117 non-null   float64       \n",
      "dtypes: datetime64[ns](1), float64(6), int64(1)\n",
      "memory usage: 320.0 KB\n"
     ]
    }
   ],
   "source": [
    "df.info()"
   ]
  },
  {
   "cell_type": "code",
   "execution_count": 19,
   "id": "06c16f53-b1c2-46e1-a7ac-277126083e7e",
   "metadata": {},
   "outputs": [],
   "source": [
    "#df.isnull().sum()"
   ]
  },
  {
   "cell_type": "code",
   "execution_count": 20,
   "id": "0e37aa3b-95ec-4d22-86ef-6f259c6ec68d",
   "metadata": {},
   "outputs": [],
   "source": [
    "#df.dropna()\n",
    "#df.drop_duplicates()\n",
    "#df.head()"
   ]
  },
  {
   "cell_type": "markdown",
   "id": "7589fb88-edca-4a10-82ce-9bee36f37336",
   "metadata": {},
   "source": [
    "## EDA\n",
    "In this section we will be examining and visualizing the dataset. From reading the description from Kaggle I know this is a dataset containing a limited amount of data including date, opening price, highest price of the day, lowest price of the day, closing price, closing price after adjustments, and the number of shares traded that day (volume)."
   ]
  },
  {
   "cell_type": "code",
   "execution_count": 21,
   "id": "b5525672-a766-4089-adc3-32f667193ef3",
   "metadata": {},
   "outputs": [
    {
     "name": "stdout",
     "output_type": "stream",
     "text": [
      "Earliest Date:  2004-08-19 00:00:00\n",
      "Latest Date:  2024-12-17 00:00:00\n"
     ]
    }
   ],
   "source": [
    "print('Earliest Date: ', df['Date'].min())\n",
    "print('Latest Date: ' , df['Date'].max())"
   ]
  },
  {
   "cell_type": "code",
   "execution_count": 22,
   "id": "938c334f-b5d8-480a-ae5d-6d6dd3104a7c",
   "metadata": {},
   "outputs": [
    {
     "data": {
      "text/plain": [
       "<matplotlib.legend.Legend at 0x146047c50>"
      ]
     },
     "execution_count": 22,
     "metadata": {},
     "output_type": "execute_result"
    },
    {
     "data": {
      "image/png": "[encoded data removed]",
      "text/plain": [
       "<Figure size 640x480 with 1 Axes>"
      ]
     },
     "metadata": {},
     "output_type": "display_data"
    }
   ],
   "source": [
    "plt.plot(df.index, df['Close'], label='Close Price')\n",
    "plt.plot(df.index, df['Open'], label='Open Price', linestyle = 'dotted')\n",
    "plt.title('Stock Price Trends')\n",
    "plt.legend()"
   ]
  },
  {
   "cell_type": "code",
   "execution_count": 51,
   "id": "d6cf238c-9da2-410e-94b5-3992e88d8250",
   "metadata": {},
   "outputs": [
    {
     "data": {
      "text/plain": [
       "Text(0.5, 1.0, 'Distribution of Daily Returns (%)')"
      ]
     },
     "execution_count": 51,
     "metadata": {},
     "output_type": "execute_result"
    },
    {
     "data": {
      "image/png": "[encoded data removed]",
      "text/plain": [
       "<Figure size 640x480 with 1 Axes>"
      ]
     },
     "metadata": {},
     "output_type": "display_data"
    }
   ],
   "source": [
    "sns.histplot(df['Daily_Return'], bins=50, kde=True)\n",
    "plt.title('Distribution of Daily Returns (%)')"
   ]
  },
  {
   "cell_type": "code",
   "execution_count": 52,
   "id": "e8e7459a-32d6-47bd-9f88-7f6affed8451",
   "metadata": {},
   "outputs": [
    {
     "data": {
      "text/plain": [
       "Text(0.5, 1.0, 'Distribution of Closing Prices')"
      ]
     },
     "execution_count": 52,
     "metadata": {},
     "output_type": "execute_result"
    },
    {
     "data": {
      "image/png": "[encoded data removed]",
      "text/plain": [
       "<Figure size 640x480 with 1 Axes>"
      ]
     },
     "metadata": {},
     "output_type": "display_data"
    }
   ],
   "source": [
    "sns.histplot(df['Close'], bins=50, kde=True)\n",
    "plt.title('Distribution of Closing Prices')"
   ]
  },
  {
   "cell_type": "code",
   "execution_count": 48,
   "id": "da8ed69e-2c97-42e9-a3be-dcac74140713",
   "metadata": {},
   "outputs": [
    {
     "data": {
      "image/png": "[encoded data removed]",
      "text/plain": [
       "<Figure size 640x480 with 2 Axes>"
      ]
     },
     "metadata": {},
     "output_type": "display_data"
    }
   ],
   "source": [
    "correlation_matrix = df.corr()\n",
    "sns.heatmap(correlation_matrix, annot = True, cmap = 'RdPu', fmt = '.2f', vmin = -1, vmax = 1)\n",
    "plt.title('Stock Price Correlation Matrix')\n",
    "plt.show()"
   ]
  },
  {
   "cell_type": "markdown",
   "id": "a262f4d8-c782-4717-b33c-c5ee46658200",
   "metadata": {},
   "source": [
    "From this correlation matrix we can see that there is a strong correlation between between the closing price and all of the metrics (Date, Open, High, Low), aside from Volume. This is most likely due to the fact that the price of a stock may fluctuate for various reasons that don't directly affect the volume. For example, a stock price may rise due to a new innovation or technology release, but that doesn't necessarily mean there will be sn impact to trading volume."
   ]
  },
  {
   "cell_type": "code",
   "execution_count": 23,
   "id": "54cc2d84-0ba4-4c9f-9f4f-ea323a144070",
   "metadata": {},
   "outputs": [],
   "source": [
    "df = df.sort_values(by = 'Date')\n",
    "#df.head()"
   ]
  },
  {
   "cell_type": "code",
   "execution_count": 49,
   "id": "f0ddd734-39f5-4489-ad1b-9f2e55d1d8c2",
   "metadata": {},
   "outputs": [],
   "source": [
    "scaler = MinMaxScaler()\n",
    "features = df[['Open', 'High', 'Low', 'Daily_Change', 'Volume']].values\n",
    "target = df['Close'].values.reshape(-1, 1)\n",
    "\n",
    "features = scaler.fit_transform(features)\n",
    "target = scaler.fit_transform(target)"
   ]
  },
  {
   "cell_type": "markdown",
   "id": "e8bc0484-8147-4ed3-b306-0900dab35cf4",
   "metadata": {},
   "source": [
    "I chose to normalize the data due to the difference in ranges between certain values, such as the stock price, daily return, and volume. The stock prices range from 0 to 200 dollars, the daily returns are a percentage between 0 and 100, and the volume is the millions."
   ]
  },
  {
   "cell_type": "markdown",
   "id": "c8f6a22e-e0f7-404a-a745-51fb4cb3b0ce",
   "metadata": {},
   "source": [
    "## Sequences\n",
    "\n",
    "I'm creating sliding window sequences to make this time series prediction. I'm setting the train window to 7, this means that in order to make a prediction, the model will be using 7 time steps (7 days of data with the Open, High, Low, Daily Change, Year, and Volume) to predict the next value (Closing price of the 8th day)."
   ]
  },
  {
   "cell_type": "code",
   "execution_count": 50,
   "id": "f60ce2bf-51cf-4a88-81ce-973b335d9753",
   "metadata": {},
   "outputs": [],
   "source": [
    "train_window = 7\n",
    "\n",
    "def create_sequences(features, target, train_window):\n",
    "    sequences = []\n",
    "    \n",
    "    for i in range(len(features) - train_window):\n",
    "        input_seq = features[i : i + train_window]\n",
    "        \n",
    "        label = target[i + train_window]\n",
    "        \n",
    "        sequences.append((input_seq, label))\n",
    "    return sequences\n",
    "    \n",
    "data = create_sequences(features, target, train_window)"
   ]
  },
  {
   "cell_type": "markdown",
   "id": "67d22343-0194-4918-88d8-1f0978b366ff",
   "metadata": {},
   "source": [
    "## Training & Testing Split"
   ]
  },
  {
   "cell_type": "code",
   "execution_count": 51,
   "id": "30d4296e-48f4-4187-8760-78f73342702c",
   "metadata": {},
   "outputs": [],
   "source": [
    "test_size = 0.3\n",
    "split_index = int(len(data) * (1 - test_size))\n",
    "\n",
    "train = data[:split_index]\n",
    "test = data[split_index:]"
   ]
  },
  {
   "cell_type": "code",
   "execution_count": 52,
   "id": "7f98e4ff-e23c-4af1-9df6-8ab599b22684",
   "metadata": {},
   "outputs": [],
   "source": [
    "train_sequences = torch.tensor([seq for seq, _ in train], dtype = torch.float32)\n",
    "train_labels = torch.tensor([label for _, label in train], dtype = torch.float32)\n",
    "\n",
    "batch_size = 32\n",
    "train_dataset = TensorDataset(train_sequences, train_labels)\n",
    "train_loader = DataLoader(train_dataset, batch_size = batch_size, shuffle = True)"
   ]
  },
  {
   "cell_type": "markdown",
   "id": "9d586ba5-cab2-4e67-b0d6-8c8f64633eb7",
   "metadata": {},
   "source": [
    "## Building the LSTM\n",
    "\n",
    "In this part if the code, we'll be taking the sequence of features then processing them through the layers of the LSTM to make a predicition for each sequence. Here the sequences will be processed through the LSTM layers to make each prediction.\n",
    "\n",
    "In the forward pass the hidden and cell states are initialized with zeros, then they processes the input through the LSTM. Following this, the last output is passed through a linear layer to give us the prediction."
   ]
  },
  {
   "cell_type": "code",
   "execution_count": 53,
   "id": "c1aa3809-11e7-4014-9154-9de0ce6fa7db",
   "metadata": {},
   "outputs": [],
   "source": [
    "class LSTM(nn.Module):\n",
    "    def __init__(self, input_size = 5, hidden_layer_size = 100, output_size = 1, num_layers = 1):\n",
    "        super(LSTM, self).__init__()\n",
    "        \n",
    "        self.hidden_layer_size = hidden_layer_size\n",
    "        \n",
    "        self.num_layers = num_layers\n",
    "        # LSTM Layer\n",
    "        self.lstm = nn.LSTM(input_size, hidden_layer_size, num_layers, batch_first = True, dropout = 0.2 if num_layers > 1 else 0)\n",
    "        # fully connected layer\n",
    "        self.linear = nn.Linear(hidden_layer_size, output_size)\n",
    "    \n",
    "    def forward(self, input_seq):\n",
    "        batch_size = input_seq.size(0)\n",
    "        h0 = torch.zeros(self.num_layers, batch_size, self.hidden_layer_size).to(input_seq.device)\n",
    "        c0 = torch.zeros(self.num_layers, batch_size, self.hidden_layer_size).to(input_seq.device)\n",
    "        \n",
    "        lstm_out, (hidden, cell) = self.lstm(input_seq, (h0, c0))\n",
    "        \n",
    "        predictions = self.linear(lstm_out[:, -1, :])\n",
    "        return predictions"
   ]
  },
  {
   "cell_type": "code",
   "execution_count": 54,
   "id": "b2f43172-7786-440b-9164-a36c759e0449",
   "metadata": {},
   "outputs": [],
   "source": [
    "model = LSTM(input_size = 5, hidden_layer_size = 128, output_size = 1, num_layers = 2)\n",
    "\n",
    "# loss and optimizer\n",
    "loss_function = nn.MSELoss()\n",
    "optimizer = torch.optim.Adam(model.parameters(), lr = 0.001)"
   ]
  },
  {
   "cell_type": "markdown",
   "id": "8e336bfc-3236-4a05-aff9-7e5d327ca12a",
   "metadata": {},
   "source": [
    "## Model Training"
   ]
  },
  {
   "cell_type": "code",
   "execution_count": 55,
   "id": "23ddde73-3e05-4299-910e-297103df7297",
   "metadata": {},
   "outputs": [
    {
     "data": {
      "application/vnd.jupyter.widget-view+json": {
       "model_id": "38749b91c4f24a80841935485d002c9f",
       "version_major": 2,
       "version_minor": 0
      },
      "text/plain": [
       "  0%|          | 0/112 [00:00<?, ?it/s]"
      ]
     },
     "metadata": {},
     "output_type": "display_data"
    },
    {
     "name": "stdout",
     "output_type": "stream",
     "text": [
      "epoch 1/50, Loss: 0.0015021642\n"
     ]
    },
    {
     "data": {
      "application/vnd.jupyter.widget-view+json": {
       "model_id": "0c445673c09b456aa10f138591178b74",
       "version_major": 2,
       "version_minor": 0
      },
      "text/plain": [
       "  0%|          | 0/112 [00:00<?, ?it/s]"
      ]
     },
     "metadata": {},
     "output_type": "display_data"
    },
    {
     "name": "stdout",
     "output_type": "stream",
     "text": [
      "epoch 2/50, Loss: 0.0000470525\n"
     ]
    },
    {
     "data": {
      "application/vnd.jupyter.widget-view+json": {
       "model_id": "3135adbf43a04e428c4b6efdb2a668d2",
       "version_major": 2,
       "version_minor": 0
      },
      "text/plain": [
       "  0%|          | 0/112 [00:00<?, ?it/s]"
      ]
     },
     "metadata": {},
     "output_type": "display_data"
    },
    {
     "name": "stdout",
     "output_type": "stream",
     "text": [
      "epoch 3/50, Loss: 0.0000422793\n"
     ]
    },
    {
     "data": {
      "application/vnd.jupyter.widget-view+json": {
       "model_id": "8979723686b04253b8b79da3ee020d92",
       "version_major": 2,
       "version_minor": 0
      },
      "text/plain": [
       "  0%|          | 0/112 [00:00<?, ?it/s]"
      ]
     },
     "metadata": {},
     "output_type": "display_data"
    },
    {
     "name": "stdout",
     "output_type": "stream",
     "text": [
      "epoch 4/50, Loss: 0.0000364649\n"
     ]
    },
    {
     "data": {
      "application/vnd.jupyter.widget-view+json": {
       "model_id": "1180856b7bdc428da7fae79b16748526",
       "version_major": 2,
       "version_minor": 0
      },
      "text/plain": [
       "  0%|          | 0/112 [00:00<?, ?it/s]"
      ]
     },
     "metadata": {},
     "output_type": "display_data"
    },
    {
     "name": "stdout",
     "output_type": "stream",
     "text": [
      "epoch 5/50, Loss: 0.0000342383\n"
     ]
    },
    {
     "data": {
      "application/vnd.jupyter.widget-view+json": {
       "model_id": "38598abbc9a4437897566609ba40ded9",
       "version_major": 2,
       "version_minor": 0
      },
      "text/plain": [
       "  0%|          | 0/112 [00:00<?, ?it/s]"
      ]
     },
     "metadata": {},
     "output_type": "display_data"
    },
    {
     "name": "stdout",
     "output_type": "stream",
     "text": [
      "epoch 6/50, Loss: 0.0000282347\n"
     ]
    },
    {
     "data": {
      "application/vnd.jupyter.widget-view+json": {
       "model_id": "0a01c6cac3da4c0c9ff17048669f92cb",
       "version_major": 2,
       "version_minor": 0
      },
      "text/plain": [
       "  0%|          | 0/112 [00:00<?, ?it/s]"
      ]
     },
     "metadata": {},
     "output_type": "display_data"
    },
    {
     "name": "stdout",
     "output_type": "stream",
     "text": [
      "epoch 7/50, Loss: 0.0000273761\n"
     ]
    },
    {
     "data": {
      "application/vnd.jupyter.widget-view+json": {
       "model_id": "3550abbc45c944c9a63149bb9966e8a2",
       "version_major": 2,
       "version_minor": 0
      },
      "text/plain": [
       "  0%|          | 0/112 [00:00<?, ?it/s]"
      ]
     },
     "metadata": {},
     "output_type": "display_data"
    },
    {
     "name": "stdout",
     "output_type": "stream",
     "text": [
      "epoch 8/50, Loss: 0.0000277949\n"
     ]
    },
    {
     "data": {
      "application/vnd.jupyter.widget-view+json": {
       "model_id": "a18b6059a6a94cd384ca4197d5c6a2b7",
       "version_major": 2,
       "version_minor": 0
      },
      "text/plain": [
       "  0%|          | 0/112 [00:00<?, ?it/s]"
      ]
     },
     "metadata": {},
     "output_type": "display_data"
    },
    {
     "name": "stdout",
     "output_type": "stream",
     "text": [
      "epoch 9/50, Loss: 0.0000259238\n"
     ]
    },
    {
     "data": {
      "application/vnd.jupyter.widget-view+json": {
       "model_id": "1acea08616484fa69036276036506ed2",
       "version_major": 2,
       "version_minor": 0
      },
      "text/plain": [
       "  0%|          | 0/112 [00:00<?, ?it/s]"
      ]
     },
     "metadata": {},
     "output_type": "display_data"
    },
    {
     "name": "stdout",
     "output_type": "stream",
     "text": [
      "epoch 10/50, Loss: 0.0000274060\n"
     ]
    },
    {
     "data": {
      "application/vnd.jupyter.widget-view+json": {
       "model_id": "4329245884e040e5bd7e4bf9fe4f6961",
       "version_major": 2,
       "version_minor": 0
      },
      "text/plain": [
       "  0%|          | 0/112 [00:00<?, ?it/s]"
      ]
     },
     "metadata": {},
     "output_type": "display_data"
    },
    {
     "name": "stdout",
     "output_type": "stream",
     "text": [
      "epoch 11/50, Loss: 0.0000202714\n"
     ]
    },
    {
     "data": {
      "application/vnd.jupyter.widget-view+json": {
       "model_id": "de313c405fcf4016bc5fc16937fdd307",
       "version_major": 2,
       "version_minor": 0
      },
      "text/plain": [
       "  0%|          | 0/112 [00:00<?, ?it/s]"
      ]
     },
     "metadata": {},
     "output_type": "display_data"
    },
    {
     "name": "stdout",
     "output_type": "stream",
     "text": [
      "epoch 12/50, Loss: 0.0000182541\n"
     ]
    },
    {
     "data": {
      "application/vnd.jupyter.widget-view+json": {
       "model_id": "40ac0adfc8354517982e9a4dd600ce19",
       "version_major": 2,
       "version_minor": 0
      },
      "text/plain": [
       "  0%|          | 0/112 [00:00<?, ?it/s]"
      ]
     },
     "metadata": {},
     "output_type": "display_data"
    },
    {
     "name": "stdout",
     "output_type": "stream",
     "text": [
      "epoch 13/50, Loss: 0.0000185530\n"
     ]
    },
    {
     "data": {
      "application/vnd.jupyter.widget-view+json": {
       "model_id": "1f75837b090f41ca8abd82213a06cb52",
       "version_major": 2,
       "version_minor": 0
      },
      "text/plain": [
       "  0%|          | 0/112 [00:00<?, ?it/s]"
      ]
     },
     "metadata": {},
     "output_type": "display_data"
    },
    {
     "name": "stdout",
     "output_type": "stream",
     "text": [
      "epoch 14/50, Loss: 0.0000171748\n"
     ]
    },
    {
     "data": {
      "application/vnd.jupyter.widget-view+json": {
       "model_id": "339ff86d0cd244d09a6797b12cf8a4db",
       "version_major": 2,
       "version_minor": 0
      },
      "text/plain": [
       "  0%|          | 0/112 [00:00<?, ?it/s]"
      ]
     },
     "metadata": {},
     "output_type": "display_data"
    },
    {
     "name": "stdout",
     "output_type": "stream",
     "text": [
      "epoch 15/50, Loss: 0.0000172038\n"
     ]
    },
    {
     "data": {
      "application/vnd.jupyter.widget-view+json": {
       "model_id": "fb3cc6153cf24aa1b0422595779b213b",
       "version_major": 2,
       "version_minor": 0
      },
      "text/plain": [
       "  0%|          | 0/112 [00:00<?, ?it/s]"
      ]
     },
     "metadata": {},
     "output_type": "display_data"
    },
    {
     "name": "stdout",
     "output_type": "stream",
     "text": [
      "epoch 16/50, Loss: 0.0000178603\n"
     ]
    },
    {
     "data": {
      "application/vnd.jupyter.widget-view+json": {
       "model_id": "f6b8569e6b384571b8d224a2b586a782",
       "version_major": 2,
       "version_minor": 0
      },
      "text/plain": [
       "  0%|          | 0/112 [00:00<?, ?it/s]"
      ]
     },
     "metadata": {},
     "output_type": "display_data"
    },
    {
     "name": "stdout",
     "output_type": "stream",
     "text": [
      "epoch 17/50, Loss: 0.0000183517\n"
     ]
    },
    {
     "data": {
      "application/vnd.jupyter.widget-view+json": {
       "model_id": "4db0709c734f476390d8f06046a9887f",
       "version_major": 2,
       "version_minor": 0
      },
      "text/plain": [
       "  0%|          | 0/112 [00:00<?, ?it/s]"
      ]
     },
     "metadata": {},
     "output_type": "display_data"
    },
    {
     "name": "stdout",
     "output_type": "stream",
     "text": [
      "epoch 18/50, Loss: 0.0000180003\n"
     ]
    },
    {
     "data": {
      "application/vnd.jupyter.widget-view+json": {
       "model_id": "a86eb4815c904e84a93be4b5283bcf69",
       "version_major": 2,
       "version_minor": 0
      },
      "text/plain": [
       "  0%|          | 0/112 [00:00<?, ?it/s]"
      ]
     },
     "metadata": {},
     "output_type": "display_data"
    },
    {
     "name": "stdout",
     "output_type": "stream",
     "text": [
      "epoch 19/50, Loss: 0.0000179878\n"
     ]
    },
    {
     "data": {
      "application/vnd.jupyter.widget-view+json": {
       "model_id": "51640a1db4cb41b2af3cb80288a9ed55",
       "version_major": 2,
       "version_minor": 0
      },
      "text/plain": [
       "  0%|          | 0/112 [00:00<?, ?it/s]"
      ]
     },
     "metadata": {},
     "output_type": "display_data"
    },
    {
     "name": "stdout",
     "output_type": "stream",
     "text": [
      "epoch 20/50, Loss: 0.0000186157\n"
     ]
    },
    {
     "data": {
      "application/vnd.jupyter.widget-view+json": {
       "model_id": "87afd3bd0b4b4aff94ac3a71b93ca2a8",
       "version_major": 2,
       "version_minor": 0
      },
      "text/plain": [
       "  0%|          | 0/112 [00:00<?, ?it/s]"
      ]
     },
     "metadata": {},
     "output_type": "display_data"
    },
    {
     "name": "stdout",
     "output_type": "stream",
     "text": [
      "epoch 21/50, Loss: 0.0000170696\n"
     ]
    },
    {
     "data": {
      "application/vnd.jupyter.widget-view+json": {
       "model_id": "8e375ef77e574de098427c4cc9c2c98a",
       "version_major": 2,
       "version_minor": 0
      },
      "text/plain": [
       "  0%|          | 0/112 [00:00<?, ?it/s]"
      ]
     },
     "metadata": {},
     "output_type": "display_data"
    },
    {
     "name": "stdout",
     "output_type": "stream",
     "text": [
      "epoch 22/50, Loss: 0.0000161684\n"
     ]
    },
    {
     "data": {
      "application/vnd.jupyter.widget-view+json": {
       "model_id": "26e503b3a8f74051a0c48c33c1258b9a",
       "version_major": 2,
       "version_minor": 0
      },
      "text/plain": [
       "  0%|          | 0/112 [00:00<?, ?it/s]"
      ]
     },
     "metadata": {},
     "output_type": "display_data"
    },
    {
     "name": "stdout",
     "output_type": "stream",
     "text": [
      "epoch 23/50, Loss: 0.0000166421\n"
     ]
    },
    {
     "data": {
      "application/vnd.jupyter.widget-view+json": {
       "model_id": "a99ef011b086450f9ca2a720b191531f",
       "version_major": 2,
       "version_minor": 0
      },
      "text/plain": [
       "  0%|          | 0/112 [00:00<?, ?it/s]"
      ]
     },
     "metadata": {},
     "output_type": "display_data"
    },
    {
     "name": "stdout",
     "output_type": "stream",
     "text": [
      "epoch 24/50, Loss: 0.0000172904\n"
     ]
    },
    {
     "data": {
      "application/vnd.jupyter.widget-view+json": {
       "model_id": "7180369dff3e4db5b6f738e1f5b6c11f",
       "version_major": 2,
       "version_minor": 0
      },
      "text/plain": [
       "  0%|          | 0/112 [00:00<?, ?it/s]"
      ]
     },
     "metadata": {},
     "output_type": "display_data"
    },
    {
     "name": "stdout",
     "output_type": "stream",
     "text": [
      "epoch 25/50, Loss: 0.0000170234\n"
     ]
    },
    {
     "data": {
      "application/vnd.jupyter.widget-view+json": {
       "model_id": "34654c9efcea4bf4a442874cb905e1e4",
       "version_major": 2,
       "version_minor": 0
      },
      "text/plain": [
       "  0%|          | 0/112 [00:00<?, ?it/s]"
      ]
     },
     "metadata": {},
     "output_type": "display_data"
    },
    {
     "name": "stdout",
     "output_type": "stream",
     "text": [
      "epoch 26/50, Loss: 0.0000167004\n"
     ]
    },
    {
     "data": {
      "application/vnd.jupyter.widget-view+json": {
       "model_id": "3803a69f2dc549ad9ee8c3d22e597f67",
       "version_major": 2,
       "version_minor": 0
      },
      "text/plain": [
       "  0%|          | 0/112 [00:00<?, ?it/s]"
      ]
     },
     "metadata": {},
     "output_type": "display_data"
    },
    {
     "name": "stdout",
     "output_type": "stream",
     "text": [
      "epoch 27/50, Loss: 0.0000160824\n"
     ]
    },
    {
     "data": {
      "application/vnd.jupyter.widget-view+json": {
       "model_id": "755c7d9d18a6494da03a969602efb14d",
       "version_major": 2,
       "version_minor": 0
      },
      "text/plain": [
       "  0%|          | 0/112 [00:00<?, ?it/s]"
      ]
     },
     "metadata": {},
     "output_type": "display_data"
    },
    {
     "name": "stdout",
     "output_type": "stream",
     "text": [
      "epoch 28/50, Loss: 0.0000167070\n"
     ]
    },
    {
     "data": {
      "application/vnd.jupyter.widget-view+json": {
       "model_id": "e4295045a161492b939b4b27468d0652",
       "version_major": 2,
       "version_minor": 0
      },
      "text/plain": [
       "  0%|          | 0/112 [00:00<?, ?it/s]"
      ]
     },
     "metadata": {},
     "output_type": "display_data"
    },
    {
     "name": "stdout",
     "output_type": "stream",
     "text": [
      "epoch 29/50, Loss: 0.0000168492\n"
     ]
    },
    {
     "data": {
      "application/vnd.jupyter.widget-view+json": {
       "model_id": "b2d8b3061c5640cbbd3f90f35b4fd593",
       "version_major": 2,
       "version_minor": 0
      },
      "text/plain": [
       "  0%|          | 0/112 [00:00<?, ?it/s]"
      ]
     },
     "metadata": {},
     "output_type": "display_data"
    },
    {
     "name": "stdout",
     "output_type": "stream",
     "text": [
      "epoch 30/50, Loss: 0.0000165639\n"
     ]
    },
    {
     "data": {
      "application/vnd.jupyter.widget-view+json": {
       "model_id": "43b9eb6a9dba4034a9a1e7318b756543",
       "version_major": 2,
       "version_minor": 0
      },
      "text/plain": [
       "  0%|          | 0/112 [00:00<?, ?it/s]"
      ]
     },
     "metadata": {},
     "output_type": "display_data"
    },
    {
     "name": "stdout",
     "output_type": "stream",
     "text": [
      "epoch 31/50, Loss: 0.0000166220\n"
     ]
    },
    {
     "data": {
      "application/vnd.jupyter.widget-view+json": {
       "model_id": "594b83661bb545c9bc5788becdbefd7e",
       "version_major": 2,
       "version_minor": 0
      },
      "text/plain": [
       "  0%|          | 0/112 [00:00<?, ?it/s]"
      ]
     },
     "metadata": {},
     "output_type": "display_data"
    },
    {
     "name": "stdout",
     "output_type": "stream",
     "text": [
      "epoch 32/50, Loss: 0.0000172436\n"
     ]
    },
    {
     "data": {
      "application/vnd.jupyter.widget-view+json": {
       "model_id": "924152b02e714ea0a27a8fd0995f2a11",
       "version_major": 2,
       "version_minor": 0
      },
      "text/plain": [
       "  0%|          | 0/112 [00:00<?, ?it/s]"
      ]
     },
     "metadata": {},
     "output_type": "display_data"
    },
    {
     "name": "stdout",
     "output_type": "stream",
     "text": [
      "epoch 33/50, Loss: 0.0000166737\n"
     ]
    },
    {
     "data": {
      "application/vnd.jupyter.widget-view+json": {
       "model_id": "206932817d5846cea615e95f72510c13",
       "version_major": 2,
       "version_minor": 0
      },
      "text/plain": [
       "  0%|          | 0/112 [00:00<?, ?it/s]"
      ]
     },
     "metadata": {},
     "output_type": "display_data"
    },
    {
     "name": "stdout",
     "output_type": "stream",
     "text": [
      "epoch 34/50, Loss: 0.0000176677\n"
     ]
    },
    {
     "data": {
      "application/vnd.jupyter.widget-view+json": {
       "model_id": "7b845c22ac904117a714244afa7bce9d",
       "version_major": 2,
       "version_minor": 0
      },
      "text/plain": [
       "  0%|          | 0/112 [00:00<?, ?it/s]"
      ]
     },
     "metadata": {},
     "output_type": "display_data"
    },
    {
     "name": "stdout",
     "output_type": "stream",
     "text": [
      "epoch 35/50, Loss: 0.0000174805\n"
     ]
    },
    {
     "data": {
      "application/vnd.jupyter.widget-view+json": {
       "model_id": "2ca8c60fccce42dca26a08674ffaa9d1",
       "version_major": 2,
       "version_minor": 0
      },
      "text/plain": [
       "  0%|          | 0/112 [00:00<?, ?it/s]"
      ]
     },
     "metadata": {},
     "output_type": "display_data"
    },
    {
     "name": "stdout",
     "output_type": "stream",
     "text": [
      "epoch 36/50, Loss: 0.0000166714\n"
     ]
    },
    {
     "data": {
      "application/vnd.jupyter.widget-view+json": {
       "model_id": "0705ea95fe154f32b78335f1891dc63c",
       "version_major": 2,
       "version_minor": 0
      },
      "text/plain": [
       "  0%|          | 0/112 [00:00<?, ?it/s]"
      ]
     },
     "metadata": {},
     "output_type": "display_data"
    },
    {
     "name": "stdout",
     "output_type": "stream",
     "text": [
      "epoch 37/50, Loss: 0.0000169491\n"
     ]
    },
    {
     "data": {
      "application/vnd.jupyter.widget-view+json": {
       "model_id": "1316d8d0422a427c89a51c8ecd860f05",
       "version_major": 2,
       "version_minor": 0
      },
      "text/plain": [
       "  0%|          | 0/112 [00:00<?, ?it/s]"
      ]
     },
     "metadata": {},
     "output_type": "display_data"
    },
    {
     "name": "stdout",
     "output_type": "stream",
     "text": [
      "epoch 38/50, Loss: 0.0000169243\n"
     ]
    },
    {
     "data": {
      "application/vnd.jupyter.widget-view+json": {
       "model_id": "eece49ee975f47e0b8228f68f04c0831",
       "version_major": 2,
       "version_minor": 0
      },
      "text/plain": [
       "  0%|          | 0/112 [00:00<?, ?it/s]"
      ]
     },
     "metadata": {},
     "output_type": "display_data"
    },
    {
     "name": "stdout",
     "output_type": "stream",
     "text": [
      "epoch 39/50, Loss: 0.0000164700\n"
     ]
    },
    {
     "data": {
      "application/vnd.jupyter.widget-view+json": {
       "model_id": "6d39a5411ba34648a48e41a4bed42b85",
       "version_major": 2,
       "version_minor": 0
      },
      "text/plain": [
       "  0%|          | 0/112 [00:00<?, ?it/s]"
      ]
     },
     "metadata": {},
     "output_type": "display_data"
    },
    {
     "name": "stdout",
     "output_type": "stream",
     "text": [
      "epoch 40/50, Loss: 0.0000181403\n"
     ]
    },
    {
     "data": {
      "application/vnd.jupyter.widget-view+json": {
       "model_id": "a6ab009ad7dd4b61a934fe1d77775511",
       "version_major": 2,
       "version_minor": 0
      },
      "text/plain": [
       "  0%|          | 0/112 [00:00<?, ?it/s]"
      ]
     },
     "metadata": {},
     "output_type": "display_data"
    },
    {
     "name": "stdout",
     "output_type": "stream",
     "text": [
      "epoch 41/50, Loss: 0.0000163321\n"
     ]
    },
    {
     "data": {
      "application/vnd.jupyter.widget-view+json": {
       "model_id": "622590185b4a455586c5b7c80de005da",
       "version_major": 2,
       "version_minor": 0
      },
      "text/plain": [
       "  0%|          | 0/112 [00:00<?, ?it/s]"
      ]
     },
     "metadata": {},
     "output_type": "display_data"
    },
    {
     "name": "stdout",
     "output_type": "stream",
     "text": [
      "epoch 42/50, Loss: 0.0000168996\n"
     ]
    },
    {
     "data": {
      "application/vnd.jupyter.widget-view+json": {
       "model_id": "71bb023ecb864ad994b40ef9fa7cdcb6",
       "version_major": 2,
       "version_minor": 0
      },
      "text/plain": [
       "  0%|          | 0/112 [00:00<?, ?it/s]"
      ]
     },
     "metadata": {},
     "output_type": "display_data"
    },
    {
     "name": "stdout",
     "output_type": "stream",
     "text": [
      "epoch 43/50, Loss: 0.0000171134\n"
     ]
    },
    {
     "data": {
      "application/vnd.jupyter.widget-view+json": {
       "model_id": "4c874571076e4a7185e8d8a31d39bdc0",
       "version_major": 2,
       "version_minor": 0
      },
      "text/plain": [
       "  0%|          | 0/112 [00:00<?, ?it/s]"
      ]
     },
     "metadata": {},
     "output_type": "display_data"
    },
    {
     "name": "stdout",
     "output_type": "stream",
     "text": [
      "epoch 44/50, Loss: 0.0000169037\n"
     ]
    },
    {
     "data": {
      "application/vnd.jupyter.widget-view+json": {
       "model_id": "4559dbfa5c5544168991c9211f0f6b06",
       "version_major": 2,
       "version_minor": 0
      },
      "text/plain": [
       "  0%|          | 0/112 [00:00<?, ?it/s]"
      ]
     },
     "metadata": {},
     "output_type": "display_data"
    },
    {
     "name": "stdout",
     "output_type": "stream",
     "text": [
      "epoch 45/50, Loss: 0.0000167413\n"
     ]
    },
    {
     "data": {
      "application/vnd.jupyter.widget-view+json": {
       "model_id": "c2dab60e33c74313b652cd1f3207c2ee",
       "version_major": 2,
       "version_minor": 0
      },
      "text/plain": [
       "  0%|          | 0/112 [00:00<?, ?it/s]"
      ]
     },
     "metadata": {},
     "output_type": "display_data"
    },
    {
     "name": "stdout",
     "output_type": "stream",
     "text": [
      "epoch 46/50, Loss: 0.0000162386\n"
     ]
    },
    {
     "data": {
      "application/vnd.jupyter.widget-view+json": {
       "model_id": "bef86ab8e3e944cd91f327b76d512d42",
       "version_major": 2,
       "version_minor": 0
      },
      "text/plain": [
       "  0%|          | 0/112 [00:00<?, ?it/s]"
      ]
     },
     "metadata": {},
     "output_type": "display_data"
    },
    {
     "name": "stdout",
     "output_type": "stream",
     "text": [
      "epoch 47/50, Loss: 0.0000162703\n"
     ]
    },
    {
     "data": {
      "application/vnd.jupyter.widget-view+json": {
       "model_id": "792bd605484d43f79c64935852a86887",
       "version_major": 2,
       "version_minor": 0
      },
      "text/plain": [
       "  0%|          | 0/112 [00:00<?, ?it/s]"
      ]
     },
     "metadata": {},
     "output_type": "display_data"
    },
    {
     "name": "stdout",
     "output_type": "stream",
     "text": [
      "epoch 48/50, Loss: 0.0000169426\n"
     ]
    },
    {
     "data": {
      "application/vnd.jupyter.widget-view+json": {
       "model_id": "1e66e41f48e64d13b9e4725ff50febce",
       "version_major": 2,
       "version_minor": 0
      },
      "text/plain": [
       "  0%|          | 0/112 [00:00<?, ?it/s]"
      ]
     },
     "metadata": {},
     "output_type": "display_data"
    },
    {
     "name": "stdout",
     "output_type": "stream",
     "text": [
      "epoch 49/50, Loss: 0.0000170356\n"
     ]
    },
    {
     "data": {
      "application/vnd.jupyter.widget-view+json": {
       "model_id": "052827eeb1cc41b1b7641a9f3fbf4e30",
       "version_major": 2,
       "version_minor": 0
      },
      "text/plain": [
       "  0%|          | 0/112 [00:00<?, ?it/s]"
      ]
     },
     "metadata": {},
     "output_type": "display_data"
    },
    {
     "name": "stdout",
     "output_type": "stream",
     "text": [
      "epoch 50/50, Loss: 0.0000165555\n"
     ]
    }
   ],
   "source": [
    "epochs = 50\n",
    "scheduler = torch.optim.lr_scheduler.StepLR(optimizer, step_size = 10, gamma = 0.1)\n",
    "\n",
    "# training loop\n",
    "for epoch in range(epochs):\n",
    "    model.train()\n",
    "    epoch_loss = 0\n",
    "    \n",
    "    for seq, labels in tqdm(train_loader):\n",
    "        seq = seq.view(seq.size(0), seq.size(1), -1)\n",
    "        labels = labels.view(-1, 1)\n",
    "        \n",
    "        optimizer.zero_grad()\n",
    "        \n",
    "        y_pred = model(seq)\n",
    "        \n",
    "        single_loss = loss_function(y_pred, labels)\n",
    "        \n",
    "        single_loss.backward()\n",
    "\n",
    "        torch.nn.utils.clip_grad_norm_(model.parameters(), max_norm = 5)\n",
    "        \n",
    "        optimizer.step()\n",
    "        \n",
    "        epoch_loss += single_loss.item()\n",
    "\n",
    "    scheduler.step()\n",
    "    \n",
    "    average_loss = epoch_loss / len(train_loader)\n",
    "    print(f'epoch {epoch+1}/{epochs}, Loss: {average_loss:.10f}')"
   ]
  },
  {
   "cell_type": "code",
   "execution_count": 57,
   "id": "e312ff6a-a6ae-475b-9f90-407f14a320a4",
   "metadata": {},
   "outputs": [],
   "source": [
    "model.eval()\n",
    "\n",
    "test_sequences = torch.tensor([seq for seq, _ in test], dtype = torch.float32)\n",
    "test_labels = torch.tensor([label for _, label in test], dtype = torch.float32)\n",
    "\n",
    "with torch.no_grad():\n",
    "    predictions = model(test_sequences).view(-1)"
   ]
  },
  {
   "cell_type": "code",
   "execution_count": 58,
   "id": "a72d84de-fa08-46ad-976a-28ffbc904b64",
   "metadata": {},
   "outputs": [
    {
     "name": "stdout",
     "output_type": "stream",
     "text": [
      "MAE:  0.03391705\n",
      "RMSE:  0.047693595\n"
     ]
    }
   ],
   "source": [
    "print('MAE: ', mean_absolute_error(test_labels, predictions))\n",
    "print('RMSE: ', np.sqrt(mean_squared_error(test_labels, predictions)))"
   ]
  },
  {
   "cell_type": "code",
   "execution_count": 64,
   "id": "5804c2ed-3493-4c1c-900b-0008606f9d29",
   "metadata": {},
   "outputs": [
    {
     "name": "stderr",
     "output_type": "stream",
     "text": [
      "/var/folders/j6/dnffdgcd71z4km6khzwmss5w0000gn/T/ipykernel_1819/3184958807.py:5: UserWarning: No artists with labels found to put in legend.  Note that artists whose label start with an underscore are ignored when legend() is called with no argument.\n",
      "  plt.legend()\n"
     ]
    },
    {
     "data": {
      "image/png": "[encoded data removed]",
      "text/plain": [
       "<Figure size 1600x900 with 1 Axes>"
      ]
     },
     "metadata": {},
     "output_type": "display_data"
    }
   ],
   "source": [
    "plt.figure(figsize = (16, 9))\n",
    "plt.plot(test_labels, color = 'blue')\n",
    "plt.plot(predictions, color = 'red', linestyle = 'dashed')\n",
    "plt.title('Predicted vs Actual Closing Price')\n",
    "plt.legend()\n",
    "plt.ylabel('Closing Price - Normalized')\n",
    "plt.show()"
   ]
  },
  {
   "cell_type": "markdown",
   "id": "0ea3a77a-081e-4b94-984e-348d006277b5",
   "metadata": {},
   "source": [
    "The model does a pretty good job of predicting close price, especially from the 0-600 range. Yet, the model does underperform at certain points, the 600-800 and 1200-1600. It appears that when there are moments of extreme volatility, it's harder for the model to adjust, opposed to more steady performances. I'm going to make an attempt to combat this through feature engineering and adjusting the models complexity."
   ]
  },
  {
   "cell_type": "code",
   "execution_count": 67,
   "id": "0cd605d0-c98c-4623-a16b-b87ef2f13982",
   "metadata": {},
   "outputs": [
    {
     "data": {
      "text/html": [
       "<div>\n",
       "<style scoped>\n",
       "    .dataframe tbody tr th:only-of-type {\n",
       "        vertical-align: middle;\n",
       "    }\n",
       "\n",
       "    .dataframe tbody tr th {\n",
       "        vertical-align: top;\n",
       "    }\n",
       "\n",
       "    .dataframe thead th {\n",
       "        text-align: right;\n",
       "    }\n",
       "</style>\n",
       "<table border=\"1\" class=\"dataframe\">\n",
       "  <thead>\n",
       "    <tr style=\"text-align: right;\">\n",
       "      <th></th>\n",
       "      <th>Date</th>\n",
       "      <th>Open</th>\n",
       "      <th>High</th>\n",
       "      <th>Low</th>\n",
       "      <th>Close</th>\n",
       "      <th>Adj Close</th>\n",
       "      <th>Volume</th>\n",
       "      <th>Daily_Return</th>\n",
       "      <th>Daily_Change</th>\n",
       "      <th>Week_Volatility</th>\n",
       "    </tr>\n",
       "  </thead>\n",
       "  <tbody>\n",
       "    <tr>\n",
       "      <th>0</th>\n",
       "      <td>2004-08-19</td>\n",
       "      <td>2.502503</td>\n",
       "      <td>2.604104</td>\n",
       "      <td>2.401401</td>\n",
       "      <td>2.511011</td>\n",
       "      <td>2.501941</td>\n",
       "      <td>893181924</td>\n",
       "      <td>NaN</td>\n",
       "      <td>0.008508</td>\n",
       "      <td>0.0</td>\n",
       "    </tr>\n",
       "    <tr>\n",
       "      <th>1</th>\n",
       "      <td>2004-08-20</td>\n",
       "      <td>2.527778</td>\n",
       "      <td>2.729730</td>\n",
       "      <td>2.515015</td>\n",
       "      <td>2.710460</td>\n",
       "      <td>2.700670</td>\n",
       "      <td>456686856</td>\n",
       "      <td>0.079430</td>\n",
       "      <td>0.182682</td>\n",
       "      <td>0.0</td>\n",
       "    </tr>\n",
       "    <tr>\n",
       "      <th>2</th>\n",
       "      <td>2004-08-23</td>\n",
       "      <td>2.771522</td>\n",
       "      <td>2.839840</td>\n",
       "      <td>2.728979</td>\n",
       "      <td>2.737738</td>\n",
       "      <td>2.727849</td>\n",
       "      <td>365122512</td>\n",
       "      <td>0.010064</td>\n",
       "      <td>-0.033784</td>\n",
       "      <td>0.0</td>\n",
       "    </tr>\n",
       "    <tr>\n",
       "      <th>3</th>\n",
       "      <td>2004-08-24</td>\n",
       "      <td>2.783784</td>\n",
       "      <td>2.792793</td>\n",
       "      <td>2.591842</td>\n",
       "      <td>2.624374</td>\n",
       "      <td>2.614895</td>\n",
       "      <td>304946748</td>\n",
       "      <td>-0.041408</td>\n",
       "      <td>-0.159410</td>\n",
       "      <td>0.0</td>\n",
       "    </tr>\n",
       "    <tr>\n",
       "      <th>4</th>\n",
       "      <td>2004-08-25</td>\n",
       "      <td>2.626627</td>\n",
       "      <td>2.702703</td>\n",
       "      <td>2.599600</td>\n",
       "      <td>2.652653</td>\n",
       "      <td>2.643072</td>\n",
       "      <td>183772044</td>\n",
       "      <td>0.010776</td>\n",
       "      <td>0.026026</td>\n",
       "      <td>0.0</td>\n",
       "    </tr>\n",
       "  </tbody>\n",
       "</table>\n",
       "</div>"
      ],
      "text/plain": [
       "        Date      Open      High       Low     Close  Adj Close     Volume  \\\n",
       "0 2004-08-19  2.502503  2.604104  2.401401  2.511011   2.501941  893181924   \n",
       "1 2004-08-20  2.527778  2.729730  2.515015  2.710460   2.700670  456686856   \n",
       "2 2004-08-23  2.771522  2.839840  2.728979  2.737738   2.727849  365122512   \n",
       "3 2004-08-24  2.783784  2.792793  2.591842  2.624374   2.614895  304946748   \n",
       "4 2004-08-25  2.626627  2.702703  2.599600  2.652653   2.643072  183772044   \n",
       "\n",
       "   Daily_Return  Daily_Change  Week_Volatility  \n",
       "0           NaN      0.008508              0.0  \n",
       "1      0.079430      0.182682              0.0  \n",
       "2      0.010064     -0.033784              0.0  \n",
       "3     -0.041408     -0.159410              0.0  \n",
       "4      0.010776      0.026026              0.0  "
      ]
     },
     "execution_count": 67,
     "metadata": {},
     "output_type": "execute_result"
    }
   ],
   "source": [
    "df['Week_Volatility'] = df['Close'].rolling(window=7).std().fillna(0)\n",
    "df.head()"
   ]
  },
  {
   "cell_type": "code",
   "execution_count": null,
   "id": "67e6769b-87bc-4db2-9f2a-ce5460641556",
   "metadata": {},
   "outputs": [],
   "source": []
  }
 ],
 "metadata": {
  "kernelspec": {
   "display_name": "Python 3 (ipykernel)",
   "language": "python",
   "name": "python3"
  },
  "language_info": {
   "codemirror_mode": {
    "name": "ipython",
    "version": 3
   },
   "file_extension": ".py",
   "mimetype": "text/x-python",
   "name": "python",
   "nbconvert_exporter": "python",
   "pygments_lexer": "ipython3",
   "version": "3.12.7"
  }
 },
 "nbformat": 4,
 "nbformat_minor": 5
}
