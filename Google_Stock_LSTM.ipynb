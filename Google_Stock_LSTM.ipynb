{
 "cells": [
  {
   "cell_type": "markdown",
   "id": "46ebb3b4-3e03-4e01-b1a3-38a7d5d0c2ca",
   "metadata": {},
   "source": [
    "# Google Stock Price LSTM\n",
    "### By Mojisoluwa Awe\n",
    "\n",
    "In this notebook I will be exmaining stock price data for Google from 2004 to 2024, leveraging a dataset I found on Kaggle. First, I will go through some Exploratory Data Analysis to gain a better understanding of the data before building and examining a LSTM model to predict the Closing Price of the stock.\n",
    "\n",
    "If you have any suggestions or comments please feel free to reach out!"
   ]
  },
  {
   "cell_type": "code",
   "execution_count": 145,
   "id": "add1f964-a338-4ff8-a5b0-53bcfe052500",
   "metadata": {},
   "outputs": [],
   "source": [
    "import pandas as pd\n",
    "import numpy as np\n",
    "import matplotlib.pyplot as plt\n",
    "import seaborn as sns\n",
    "import shap\n",
    "import mplfinance as mpf\n",
    "import torch\n",
    "from torch import nn\n",
    "from torch.utils.data import DataLoader, TensorDataset\n",
    "from sklearn.preprocessing import MinMaxScaler\n",
    "from sklearn.metrics import mean_absolute_error, mean_squared_error\n",
    "from tqdm.notebook import tqdm"
   ]
  },
  {
   "cell_type": "code",
   "execution_count": 2,
   "id": "9e43622c-fe5a-44f5-886d-30645bfb1536",
   "metadata": {},
   "outputs": [
    {
     "data": {
      "text/html": [
       "<div>\n",
       "<style scoped>\n",
       "    .dataframe tbody tr th:only-of-type {\n",
       "        vertical-align: middle;\n",
       "    }\n",
       "\n",
       "    .dataframe tbody tr th {\n",
       "        vertical-align: top;\n",
       "    }\n",
       "\n",
       "    .dataframe thead th {\n",
       "        text-align: right;\n",
       "    }\n",
       "</style>\n",
       "<table border=\"1\" class=\"dataframe\">\n",
       "  <thead>\n",
       "    <tr style=\"text-align: right;\">\n",
       "      <th></th>\n",
       "      <th>Date</th>\n",
       "      <th>Open</th>\n",
       "      <th>High</th>\n",
       "      <th>Low</th>\n",
       "      <th>Close</th>\n",
       "      <th>Adj Close</th>\n",
       "      <th>Volume</th>\n",
       "    </tr>\n",
       "  </thead>\n",
       "  <tbody>\n",
       "    <tr>\n",
       "      <th>0</th>\n",
       "      <td>2004-08-19</td>\n",
       "      <td>2.502503</td>\n",
       "      <td>2.604104</td>\n",
       "      <td>2.401401</td>\n",
       "      <td>2.511011</td>\n",
       "      <td>2.501941</td>\n",
       "      <td>893181924</td>\n",
       "    </tr>\n",
       "    <tr>\n",
       "      <th>1</th>\n",
       "      <td>2004-08-20</td>\n",
       "      <td>2.527778</td>\n",
       "      <td>2.729730</td>\n",
       "      <td>2.515015</td>\n",
       "      <td>2.710460</td>\n",
       "      <td>2.700670</td>\n",
       "      <td>456686856</td>\n",
       "    </tr>\n",
       "    <tr>\n",
       "      <th>2</th>\n",
       "      <td>2004-08-23</td>\n",
       "      <td>2.771522</td>\n",
       "      <td>2.839840</td>\n",
       "      <td>2.728979</td>\n",
       "      <td>2.737738</td>\n",
       "      <td>2.727849</td>\n",
       "      <td>365122512</td>\n",
       "    </tr>\n",
       "    <tr>\n",
       "      <th>3</th>\n",
       "      <td>2004-08-24</td>\n",
       "      <td>2.783784</td>\n",
       "      <td>2.792793</td>\n",
       "      <td>2.591842</td>\n",
       "      <td>2.624374</td>\n",
       "      <td>2.614895</td>\n",
       "      <td>304946748</td>\n",
       "    </tr>\n",
       "    <tr>\n",
       "      <th>4</th>\n",
       "      <td>2004-08-25</td>\n",
       "      <td>2.626627</td>\n",
       "      <td>2.702703</td>\n",
       "      <td>2.599600</td>\n",
       "      <td>2.652653</td>\n",
       "      <td>2.643072</td>\n",
       "      <td>183772044</td>\n",
       "    </tr>\n",
       "  </tbody>\n",
       "</table>\n",
       "</div>"
      ],
      "text/plain": [
       "         Date      Open      High       Low     Close  Adj Close     Volume\n",
       "0  2004-08-19  2.502503  2.604104  2.401401  2.511011   2.501941  893181924\n",
       "1  2004-08-20  2.527778  2.729730  2.515015  2.710460   2.700670  456686856\n",
       "2  2004-08-23  2.771522  2.839840  2.728979  2.737738   2.727849  365122512\n",
       "3  2004-08-24  2.783784  2.792793  2.591842  2.624374   2.614895  304946748\n",
       "4  2004-08-25  2.626627  2.702703  2.599600  2.652653   2.643072  183772044"
      ]
     },
     "execution_count": 2,
     "metadata": {},
     "output_type": "execute_result"
    }
   ],
   "source": [
    "df = pd.read_csv('GOOGL_2004-08-01_2024-12-18.csv')\n",
    "df.head()"
   ]
  },
  {
   "cell_type": "code",
   "execution_count": 3,
   "id": "8c31389b-5126-4211-90db-a445646e7204",
   "metadata": {},
   "outputs": [],
   "source": [
    "df['Date'] = pd.to_datetime(df.Date)"
   ]
  },
  {
   "cell_type": "code",
   "execution_count": 4,
   "id": "0d858765-7f2c-4ec5-bcdf-479a60843c55",
   "metadata": {},
   "outputs": [],
   "source": [
    "df['Daily_Return'] = df['Close'].pct_change() * 100"
   ]
  },
  {
   "cell_type": "code",
   "execution_count": 5,
   "id": "5c4e7986-78c0-479b-9125-a006d2ec6733",
   "metadata": {},
   "outputs": [],
   "source": [
    "df['Daily_Change'] = df['Close'] - df['Open']"
   ]
  },
  {
   "cell_type": "code",
   "execution_count": 6,
   "id": "772b9310-7ad8-43c0-bce3-7bcb53b4bc29",
   "metadata": {},
   "outputs": [
    {
     "name": "stdout",
     "output_type": "stream",
     "text": [
      "<class 'pandas.core.frame.DataFrame'>\n",
      "RangeIndex: 5118 entries, 0 to 5117\n",
      "Data columns (total 9 columns):\n",
      " #   Column        Non-Null Count  Dtype         \n",
      "---  ------        --------------  -----         \n",
      " 0   Date          5118 non-null   datetime64[ns]\n",
      " 1   Open          5118 non-null   float64       \n",
      " 2   High          5118 non-null   float64       \n",
      " 3   Low           5118 non-null   float64       \n",
      " 4   Close         5118 non-null   float64       \n",
      " 5   Adj Close     5118 non-null   float64       \n",
      " 6   Volume        5118 non-null   int64         \n",
      " 7   Daily_Return  5117 non-null   float64       \n",
      " 8   Daily_Change  5118 non-null   float64       \n",
      "dtypes: datetime64[ns](1), float64(7), int64(1)\n",
      "memory usage: 360.0 KB\n"
     ]
    }
   ],
   "source": [
    "df.info()"
   ]
  },
  {
   "cell_type": "code",
   "execution_count": 19,
   "id": "06c16f53-b1c2-46e1-a7ac-277126083e7e",
   "metadata": {},
   "outputs": [],
   "source": [
    "#df.isnull().sum()"
   ]
  },
  {
   "cell_type": "code",
   "execution_count": 20,
   "id": "0e37aa3b-95ec-4d22-86ef-6f259c6ec68d",
   "metadata": {},
   "outputs": [],
   "source": [
    "#df.dropna()\n",
    "#df.drop_duplicates()\n",
    "#df.head()"
   ]
  },
  {
   "cell_type": "markdown",
   "id": "7589fb88-edca-4a10-82ce-9bee36f37336",
   "metadata": {},
   "source": [
    "## EDA\n",
    "In this section we will be examining and visualizing the dataset. From reading the description from Kaggle I know this is a dataset containing a limited amount of data including date, opening price, highest price of the day, lowest price of the day, closing price, closing price after adjustments, and the number of shares traded that day (volume)."
   ]
  },
  {
   "cell_type": "code",
   "execution_count": 21,
   "id": "b5525672-a766-4089-adc3-32f667193ef3",
   "metadata": {},
   "outputs": [
    {
     "name": "stdout",
     "output_type": "stream",
     "text": [
      "Earliest Date:  2004-08-19 00:00:00\n",
      "Latest Date:  2024-12-17 00:00:00\n"
     ]
    }
   ],
   "source": [
    "print('Earliest Date: ', df['Date'].min())\n",
    "print('Latest Date: ' , df['Date'].max())"
   ]
  },
  {
   "cell_type": "code",
   "execution_count": 149,
   "id": "938c334f-b5d8-480a-ae5d-6d6dd3104a7c",
   "metadata": {},
   "outputs": [
    {
     "data": {
      "text/plain": [
       "<matplotlib.legend.Legend at 0x34d79c470>"
      ]
     },
     "execution_count": 149,
     "metadata": {},
     "output_type": "execute_result"
    },
    {
     "data": {
      "image/png": "[encoded data removed]",
      "text/plain": [
       "<Figure size 640x480 with 1 Axes>"
      ]
     },
     "metadata": {},
     "output_type": "display_data"
    }
   ],
   "source": [
    "plt.plot(df.index, df['Close'], label='Close Price')\n",
    "plt.plot(df.index, df['Open'], label='Open Price', linestyle = 'dotted')\n",
    "plt.title('Close vs Open Prices')\n",
    "plt.xlabel('Day No.')\n",
    "plt.ylabel('Price ($)')\n",
    "plt.legend()"
   ]
  },
  {
   "cell_type": "code",
   "execution_count": 15,
   "id": "d6cf238c-9da2-410e-94b5-3992e88d8250",
   "metadata": {},
   "outputs": [
    {
     "data": {
      "text/plain": [
       "Text(0.5, 1.0, 'Distribution of Daily Returns (%)')"
      ]
     },
     "execution_count": 15,
     "metadata": {},
     "output_type": "execute_result"
    },
    {
     "data": {
      "image/png": "[encoded data removed]",
      "text/plain": [
       "<Figure size 640x480 with 1 Axes>"
      ]
     },
     "metadata": {},
     "output_type": "display_data"
    }
   ],
   "source": [
    "sns.histplot(df['Daily_Return'], bins=50, kde=True)\n",
    "plt.title('Distribution of Daily Returns (%)')"
   ]
  },
  {
   "cell_type": "code",
   "execution_count": 17,
   "id": "e8e7459a-32d6-47bd-9f88-7f6affed8451",
   "metadata": {},
   "outputs": [
    {
     "data": {
      "text/plain": [
       "Text(0.5, 1.0, 'Distribution of Closing Prices')"
      ]
     },
     "execution_count": 17,
     "metadata": {},
     "output_type": "execute_result"
    },
    {
     "data": {
      "image/png": "[encoded data removed]",
      "text/plain": [
       "<Figure size 640x480 with 1 Axes>"
      ]
     },
     "metadata": {},
     "output_type": "display_data"
    }
   ],
   "source": [
    "sns.histplot(df['Close'], bins=50, kde=True)\n",
    "plt.title('Distribution of Closing Prices')"
   ]
  },
  {
   "cell_type": "code",
   "execution_count": 398,
   "id": "da8ed69e-2c97-42e9-a3be-dcac74140713",
   "metadata": {},
   "outputs": [
    {
     "data": {
      "image/png": "[encoded data removed]",
      "text/plain": [
       "<Figure size 640x480 with 2 Axes>"
      ]
     },
     "metadata": {},
     "output_type": "display_data"
    }
   ],
   "source": [
    "correlation_matrix = df.corr()\n",
    "sns.heatmap(correlation_matrix, annot = True, cmap = 'RdPu', fmt = '.2f', vmin = -1, vmax = 1)\n",
    "plt.title('Stock Price Correlation Matrix')\n",
    "plt.show()"
   ]
  },
  {
   "cell_type": "markdown",
   "id": "a262f4d8-c782-4717-b33c-c5ee46658200",
   "metadata": {},
   "source": [
    "From this correlation matrix we can see that there is a strong correlation between between the closing price and all of the metrics (Date, Open, High, Low), aside from Volume. This is most likely due to the fact that the price of a stock may fluctuate for various reasons that don't directly affect the volume. For example, a stock price may rise due to a new innovation or technology release, but that doesn't necessarily mean there will be sn impact to trading volume."
   ]
  },
  {
   "cell_type": "code",
   "execution_count": 19,
   "id": "54cc2d84-0ba4-4c9f-9f4f-ea323a144070",
   "metadata": {},
   "outputs": [],
   "source": [
    "df = df.sort_values(by = 'Date')\n",
    "#df.head()"
   ]
  },
  {
   "cell_type": "code",
   "execution_count": 21,
   "id": "f0ddd734-39f5-4489-ad1b-9f2e55d1d8c2",
   "metadata": {},
   "outputs": [],
   "source": [
    "scaler = MinMaxScaler()\n",
    "features = df[['Open', 'High', 'Low', 'Daily_Change', 'Volume']].values\n",
    "target = df['Close'].values.reshape(-1, 1)\n",
    "\n",
    "features = scaler.fit_transform(features)\n",
    "target = scaler.fit_transform(target)"
   ]
  },
  {
   "cell_type": "markdown",
   "id": "e8bc0484-8147-4ed3-b306-0900dab35cf4",
   "metadata": {},
   "source": [
    "I chose to normalize the data due to the difference in ranges between certain values, such as the stock price, daily return, and volume. The stock prices range from 0 to 200 dollars, the daily returns are a percentage between 0 and 100, and the volume is the millions."
   ]
  },
  {
   "cell_type": "markdown",
   "id": "c8f6a22e-e0f7-404a-a745-51fb4cb3b0ce",
   "metadata": {},
   "source": [
    "## Sequences\n",
    "\n",
    "I'm creating sliding window sequences to make this time series prediction. I'm setting the train window to 7, this means that in order to make a prediction, the model will be using 7 time steps (7 days of data with the Open, High, Low, Daily Change, Year, and Volume) to predict the next value (Closing price of the 8th day)."
   ]
  },
  {
   "cell_type": "code",
   "execution_count": 23,
   "id": "f60ce2bf-51cf-4a88-81ce-973b335d9753",
   "metadata": {},
   "outputs": [],
   "source": [
    "train_window = 7\n",
    "\n",
    "def create_sequences(features, target, train_window):\n",
    "    sequences = []\n",
    "    \n",
    "    for i in range(len(features) - train_window):\n",
    "        input_seq = features[i : i + train_window]\n",
    "        \n",
    "        label = target[i + train_window]\n",
    "        \n",
    "        sequences.append((input_seq, label))\n",
    "    return sequences\n",
    "    \n",
    "data = create_sequences(features, target, train_window)"
   ]
  },
  {
   "cell_type": "markdown",
   "id": "67d22343-0194-4918-88d8-1f0978b366ff",
   "metadata": {},
   "source": [
    "## Training & Testing Split"
   ]
  },
  {
   "cell_type": "code",
   "execution_count": 25,
   "id": "30d4296e-48f4-4187-8760-78f73342702c",
   "metadata": {},
   "outputs": [],
   "source": [
    "test_size = 0.3\n",
    "split_index = int(len(data) * (1 - test_size))\n",
    "\n",
    "train = data[:split_index]\n",
    "test = data[split_index:]"
   ]
  },
  {
   "cell_type": "code",
   "execution_count": 27,
   "id": "7f98e4ff-e23c-4af1-9df6-8ab599b22684",
   "metadata": {},
   "outputs": [
    {
     "name": "stderr",
     "output_type": "stream",
     "text": [
      "/var/folders/j6/dnffdgcd71z4km6khzwmss5w0000gn/T/ipykernel_70510/507284264.py:1: UserWarning: Creating a tensor from a list of numpy.ndarrays is extremely slow. Please consider converting the list to a single numpy.ndarray with numpy.array() before converting to a tensor. (Triggered internally at /Users/runner/work/pytorch/pytorch/pytorch/torch/csrc/utils/tensor_new.cpp:281.)\n",
      "  train_sequences = torch.tensor([seq for seq, _ in train], dtype = torch.float32)\n"
     ]
    }
   ],
   "source": [
    "train_sequences = torch.tensor([seq for seq, _ in train], dtype = torch.float32)\n",
    "train_labels = torch.tensor([label for _, label in train], dtype = torch.float32)\n",
    "\n",
    "batch_size = 32\n",
    "train_dataset = TensorDataset(train_sequences, train_labels)\n",
    "train_loader = DataLoader(train_dataset, batch_size = batch_size, shuffle = True)"
   ]
  },
  {
   "cell_type": "markdown",
   "id": "9d586ba5-cab2-4e67-b0d6-8c8f64633eb7",
   "metadata": {},
   "source": [
    "## Building the LSTM\n",
    "\n",
    "In this part if the code, we'll be taking the sequence of features then processing them through the layers of the LSTM to make a predicition for each sequence. Here the sequences will be processed through the LSTM layers to make each prediction.\n",
    "\n",
    "In the forward pass the hidden and cell states are initialized with zeros, then they processes the input through the LSTM. Following this, the last output is passed through a linear layer to give us the prediction."
   ]
  },
  {
   "cell_type": "code",
   "execution_count": 29,
   "id": "c1aa3809-11e7-4014-9154-9de0ce6fa7db",
   "metadata": {},
   "outputs": [],
   "source": [
    "class LSTM(nn.Module):\n",
    "    def __init__(self, input_size = 5, hidden_layer_size = 100, output_size = 1, num_layers = 1):\n",
    "        super(LSTM, self).__init__()\n",
    "        \n",
    "        self.hidden_layer_size = hidden_layer_size\n",
    "        \n",
    "        self.num_layers = num_layers\n",
    "        # LSTM Layer\n",
    "        self.lstm = nn.LSTM(input_size, hidden_layer_size, num_layers, batch_first = True, dropout = 0.2 if num_layers > 1 else 0)\n",
    "        # fully connected layer\n",
    "        self.linear = nn.Linear(hidden_layer_size, output_size)\n",
    "    \n",
    "    def forward(self, input_seq):\n",
    "        batch_size = input_seq.size(0)\n",
    "        h0 = torch.zeros(self.num_layers, batch_size, self.hidden_layer_size).to(input_seq.device)\n",
    "        c0 = torch.zeros(self.num_layers, batch_size, self.hidden_layer_size).to(input_seq.device)\n",
    "        \n",
    "        lstm_out, (hidden, cell) = self.lstm(input_seq, (h0, c0))\n",
    "        \n",
    "        predictions = self.linear(lstm_out[:, -1, :])\n",
    "        return predictions"
   ]
  },
  {
   "cell_type": "code",
   "execution_count": 31,
   "id": "b2f43172-7786-440b-9164-a36c759e0449",
   "metadata": {},
   "outputs": [],
   "source": [
    "model = LSTM(input_size = 5, hidden_layer_size = 128, output_size = 1, num_layers = 2)\n",
    "\n",
    "# loss and optimizer\n",
    "loss_function = nn.MSELoss()\n",
    "optimizer = torch.optim.Adam(model.parameters(), lr = 0.001)"
   ]
  },
  {
   "cell_type": "markdown",
   "id": "8e336bfc-3236-4a05-aff9-7e5d327ca12a",
   "metadata": {},
   "source": [
    "## Model Training"
   ]
  },
  {
   "cell_type": "code",
   "execution_count": 33,
   "id": "23ddde73-3e05-4299-910e-297103df7297",
   "metadata": {},
   "outputs": [
    {
     "data": {
      "application/vnd.jupyter.widget-view+json": {
       "model_id": "23f51c9b2d5f4bc384cf177218d4a03f",
       "version_major": 2,
       "version_minor": 0
      },
      "text/plain": [
       "  0%|          | 0/112 [00:00<?, ?it/s]"
      ]
     },
     "metadata": {},
     "output_type": "display_data"
    },
    {
     "name": "stdout",
     "output_type": "stream",
     "text": [
      "epoch 1/50, Loss: 0.0021702835\n"
     ]
    },
    {
     "data": {
      "application/vnd.jupyter.widget-view+json": {
       "model_id": "5dee45433f164dffa418757b967f891b",
       "version_major": 2,
       "version_minor": 0
      },
      "text/plain": [
       "  0%|          | 0/112 [00:00<?, ?it/s]"
      ]
     },
     "metadata": {},
     "output_type": "display_data"
    },
    {
     "name": "stdout",
     "output_type": "stream",
     "text": [
      "epoch 2/50, Loss: 0.0000607396\n"
     ]
    },
    {
     "data": {
      "application/vnd.jupyter.widget-view+json": {
       "model_id": "770d7084fc314a80819dcda9f59eda9d",
       "version_major": 2,
       "version_minor": 0
      },
      "text/plain": [
       "  0%|          | 0/112 [00:00<?, ?it/s]"
      ]
     },
     "metadata": {},
     "output_type": "display_data"
    },
    {
     "name": "stdout",
     "output_type": "stream",
     "text": [
      "epoch 3/50, Loss: 0.0000379232\n"
     ]
    },
    {
     "data": {
      "application/vnd.jupyter.widget-view+json": {
       "model_id": "321b0b5c83fd44718a9d4b73998273e3",
       "version_major": 2,
       "version_minor": 0
      },
      "text/plain": [
       "  0%|          | 0/112 [00:00<?, ?it/s]"
      ]
     },
     "metadata": {},
     "output_type": "display_data"
    },
    {
     "name": "stdout",
     "output_type": "stream",
     "text": [
      "epoch 4/50, Loss: 0.0000374690\n"
     ]
    },
    {
     "data": {
      "application/vnd.jupyter.widget-view+json": {
       "model_id": "090c24e9ff95439aaa5b8d18be8c72c9",
       "version_major": 2,
       "version_minor": 0
      },
      "text/plain": [
       "  0%|          | 0/112 [00:00<?, ?it/s]"
      ]
     },
     "metadata": {},
     "output_type": "display_data"
    },
    {
     "name": "stdout",
     "output_type": "stream",
     "text": [
      "epoch 5/50, Loss: 0.0000338874\n"
     ]
    },
    {
     "data": {
      "application/vnd.jupyter.widget-view+json": {
       "model_id": "3fdddf122afd4760bbef223da06f2766",
       "version_major": 2,
       "version_minor": 0
      },
      "text/plain": [
       "  0%|          | 0/112 [00:00<?, ?it/s]"
      ]
     },
     "metadata": {},
     "output_type": "display_data"
    },
    {
     "name": "stdout",
     "output_type": "stream",
     "text": [
      "epoch 6/50, Loss: 0.0000323234\n"
     ]
    },
    {
     "data": {
      "application/vnd.jupyter.widget-view+json": {
       "model_id": "b2d9bb9c85534b3398fbb5dc835cd776",
       "version_major": 2,
       "version_minor": 0
      },
      "text/plain": [
       "  0%|          | 0/112 [00:00<?, ?it/s]"
      ]
     },
     "metadata": {},
     "output_type": "display_data"
    },
    {
     "name": "stdout",
     "output_type": "stream",
     "text": [
      "epoch 7/50, Loss: 0.0000300528\n"
     ]
    },
    {
     "data": {
      "application/vnd.jupyter.widget-view+json": {
       "model_id": "26da5e30fbf24e11839d234977862846",
       "version_major": 2,
       "version_minor": 0
      },
      "text/plain": [
       "  0%|          | 0/112 [00:00<?, ?it/s]"
      ]
     },
     "metadata": {},
     "output_type": "display_data"
    },
    {
     "name": "stdout",
     "output_type": "stream",
     "text": [
      "epoch 8/50, Loss: 0.0000318138\n"
     ]
    },
    {
     "data": {
      "application/vnd.jupyter.widget-view+json": {
       "model_id": "0ba5d9e8fdbf48a49c60a228d5f47877",
       "version_major": 2,
       "version_minor": 0
      },
      "text/plain": [
       "  0%|          | 0/112 [00:00<?, ?it/s]"
      ]
     },
     "metadata": {},
     "output_type": "display_data"
    },
    {
     "name": "stdout",
     "output_type": "stream",
     "text": [
      "epoch 9/50, Loss: 0.0000272738\n"
     ]
    },
    {
     "data": {
      "application/vnd.jupyter.widget-view+json": {
       "model_id": "e9371e5ad09043a6926aab38ea0bb0af",
       "version_major": 2,
       "version_minor": 0
      },
      "text/plain": [
       "  0%|          | 0/112 [00:00<?, ?it/s]"
      ]
     },
     "metadata": {},
     "output_type": "display_data"
    },
    {
     "name": "stdout",
     "output_type": "stream",
     "text": [
      "epoch 10/50, Loss: 0.0000343927\n"
     ]
    },
    {
     "data": {
      "application/vnd.jupyter.widget-view+json": {
       "model_id": "44f2e74860f349829237809792b285ef",
       "version_major": 2,
       "version_minor": 0
      },
      "text/plain": [
       "  0%|          | 0/112 [00:00<?, ?it/s]"
      ]
     },
     "metadata": {},
     "output_type": "display_data"
    },
    {
     "name": "stdout",
     "output_type": "stream",
     "text": [
      "epoch 11/50, Loss: 0.0000200192\n"
     ]
    },
    {
     "data": {
      "application/vnd.jupyter.widget-view+json": {
       "model_id": "03c2e4c1c04543d9a005769365359707",
       "version_major": 2,
       "version_minor": 0
      },
      "text/plain": [
       "  0%|          | 0/112 [00:00<?, ?it/s]"
      ]
     },
     "metadata": {},
     "output_type": "display_data"
    },
    {
     "name": "stdout",
     "output_type": "stream",
     "text": [
      "epoch 12/50, Loss: 0.0000207410\n"
     ]
    },
    {
     "data": {
      "application/vnd.jupyter.widget-view+json": {
       "model_id": "1eefbc63279d423f8c91f82e3ff50a88",
       "version_major": 2,
       "version_minor": 0
      },
      "text/plain": [
       "  0%|          | 0/112 [00:00<?, ?it/s]"
      ]
     },
     "metadata": {},
     "output_type": "display_data"
    },
    {
     "name": "stdout",
     "output_type": "stream",
     "text": [
      "epoch 13/50, Loss: 0.0000199190\n"
     ]
    },
    {
     "data": {
      "application/vnd.jupyter.widget-view+json": {
       "model_id": "65a961eccd394584ab70fc638ac7cb98",
       "version_major": 2,
       "version_minor": 0
      },
      "text/plain": [
       "  0%|          | 0/112 [00:00<?, ?it/s]"
      ]
     },
     "metadata": {},
     "output_type": "display_data"
    },
    {
     "name": "stdout",
     "output_type": "stream",
     "text": [
      "epoch 14/50, Loss: 0.0000212582\n"
     ]
    },
    {
     "data": {
      "application/vnd.jupyter.widget-view+json": {
       "model_id": "41c40318759243c29fa432b1372a564a",
       "version_major": 2,
       "version_minor": 0
      },
      "text/plain": [
       "  0%|          | 0/112 [00:00<?, ?it/s]"
      ]
     },
     "metadata": {},
     "output_type": "display_data"
    },
    {
     "name": "stdout",
     "output_type": "stream",
     "text": [
      "epoch 15/50, Loss: 0.0000183120\n"
     ]
    },
    {
     "data": {
      "application/vnd.jupyter.widget-view+json": {
       "model_id": "26f158b9024349ecad68420a9ae62103",
       "version_major": 2,
       "version_minor": 0
      },
      "text/plain": [
       "  0%|          | 0/112 [00:00<?, ?it/s]"
      ]
     },
     "metadata": {},
     "output_type": "display_data"
    },
    {
     "name": "stdout",
     "output_type": "stream",
     "text": [
      "epoch 16/50, Loss: 0.0000200253\n"
     ]
    },
    {
     "data": {
      "application/vnd.jupyter.widget-view+json": {
       "model_id": "c85a53f3853549a492e0c36ad66e3129",
       "version_major": 2,
       "version_minor": 0
      },
      "text/plain": [
       "  0%|          | 0/112 [00:00<?, ?it/s]"
      ]
     },
     "metadata": {},
     "output_type": "display_data"
    },
    {
     "name": "stdout",
     "output_type": "stream",
     "text": [
      "epoch 17/50, Loss: 0.0000190447\n"
     ]
    },
    {
     "data": {
      "application/vnd.jupyter.widget-view+json": {
       "model_id": "704118730edb47fcafc736f14e4fca07",
       "version_major": 2,
       "version_minor": 0
      },
      "text/plain": [
       "  0%|          | 0/112 [00:00<?, ?it/s]"
      ]
     },
     "metadata": {},
     "output_type": "display_data"
    },
    {
     "name": "stdout",
     "output_type": "stream",
     "text": [
      "epoch 18/50, Loss: 0.0000186863\n"
     ]
    },
    {
     "data": {
      "application/vnd.jupyter.widget-view+json": {
       "model_id": "1dda419d9e2d42bebcdcf20dc0b7c1f9",
       "version_major": 2,
       "version_minor": 0
      },
      "text/plain": [
       "  0%|          | 0/112 [00:00<?, ?it/s]"
      ]
     },
     "metadata": {},
     "output_type": "display_data"
    },
    {
     "name": "stdout",
     "output_type": "stream",
     "text": [
      "epoch 19/50, Loss: 0.0000192887\n"
     ]
    },
    {
     "data": {
      "application/vnd.jupyter.widget-view+json": {
       "model_id": "a593a87f482c461c8d486099106e5857",
       "version_major": 2,
       "version_minor": 0
      },
      "text/plain": [
       "  0%|          | 0/112 [00:00<?, ?it/s]"
      ]
     },
     "metadata": {},
     "output_type": "display_data"
    },
    {
     "name": "stdout",
     "output_type": "stream",
     "text": [
      "epoch 20/50, Loss: 0.0000191397\n"
     ]
    },
    {
     "data": {
      "application/vnd.jupyter.widget-view+json": {
       "model_id": "bedc11663ca74554b90d6ad838fdf027",
       "version_major": 2,
       "version_minor": 0
      },
      "text/plain": [
       "  0%|          | 0/112 [00:00<?, ?it/s]"
      ]
     },
     "metadata": {},
     "output_type": "display_data"
    },
    {
     "name": "stdout",
     "output_type": "stream",
     "text": [
      "epoch 21/50, Loss: 0.0000179004\n"
     ]
    },
    {
     "data": {
      "application/vnd.jupyter.widget-view+json": {
       "model_id": "d4f41db0628845c29c076f06ae78a516",
       "version_major": 2,
       "version_minor": 0
      },
      "text/plain": [
       "  0%|          | 0/112 [00:00<?, ?it/s]"
      ]
     },
     "metadata": {},
     "output_type": "display_data"
    },
    {
     "name": "stdout",
     "output_type": "stream",
     "text": [
      "epoch 22/50, Loss: 0.0000179556\n"
     ]
    },
    {
     "data": {
      "application/vnd.jupyter.widget-view+json": {
       "model_id": "aedd0b9fd8234d2ba3a78243d3cedce2",
       "version_major": 2,
       "version_minor": 0
      },
      "text/plain": [
       "  0%|          | 0/112 [00:00<?, ?it/s]"
      ]
     },
     "metadata": {},
     "output_type": "display_data"
    },
    {
     "name": "stdout",
     "output_type": "stream",
     "text": [
      "epoch 23/50, Loss: 0.0000181509\n"
     ]
    },
    {
     "data": {
      "application/vnd.jupyter.widget-view+json": {
       "model_id": "ed283a01445140019f110f7458c08c80",
       "version_major": 2,
       "version_minor": 0
      },
      "text/plain": [
       "  0%|          | 0/112 [00:00<?, ?it/s]"
      ]
     },
     "metadata": {},
     "output_type": "display_data"
    },
    {
     "name": "stdout",
     "output_type": "stream",
     "text": [
      "epoch 24/50, Loss: 0.0000185994\n"
     ]
    },
    {
     "data": {
      "application/vnd.jupyter.widget-view+json": {
       "model_id": "b65ac8e46b9240dea6eea770d3482e59",
       "version_major": 2,
       "version_minor": 0
      },
      "text/plain": [
       "  0%|          | 0/112 [00:00<?, ?it/s]"
      ]
     },
     "metadata": {},
     "output_type": "display_data"
    },
    {
     "name": "stdout",
     "output_type": "stream",
     "text": [
      "epoch 25/50, Loss: 0.0000187839\n"
     ]
    },
    {
     "data": {
      "application/vnd.jupyter.widget-view+json": {
       "model_id": "0a26dc6543cc49b98f36570013987900",
       "version_major": 2,
       "version_minor": 0
      },
      "text/plain": [
       "  0%|          | 0/112 [00:00<?, ?it/s]"
      ]
     },
     "metadata": {},
     "output_type": "display_data"
    },
    {
     "name": "stdout",
     "output_type": "stream",
     "text": [
      "epoch 26/50, Loss: 0.0000180932\n"
     ]
    },
    {
     "data": {
      "application/vnd.jupyter.widget-view+json": {
       "model_id": "1e34c05567274ae199fdb60f0eb932b4",
       "version_major": 2,
       "version_minor": 0
      },
      "text/plain": [
       "  0%|          | 0/112 [00:00<?, ?it/s]"
      ]
     },
     "metadata": {},
     "output_type": "display_data"
    },
    {
     "name": "stdout",
     "output_type": "stream",
     "text": [
      "epoch 27/50, Loss: 0.0000191265\n"
     ]
    },
    {
     "data": {
      "application/vnd.jupyter.widget-view+json": {
       "model_id": "e1b471c7f538469db349c5117f6d2a9d",
       "version_major": 2,
       "version_minor": 0
      },
      "text/plain": [
       "  0%|          | 0/112 [00:00<?, ?it/s]"
      ]
     },
     "metadata": {},
     "output_type": "display_data"
    },
    {
     "name": "stdout",
     "output_type": "stream",
     "text": [
      "epoch 28/50, Loss: 0.0000187069\n"
     ]
    },
    {
     "data": {
      "application/vnd.jupyter.widget-view+json": {
       "model_id": "e5f943efb6d84cea99a36eeecd78010f",
       "version_major": 2,
       "version_minor": 0
      },
      "text/plain": [
       "  0%|          | 0/112 [00:00<?, ?it/s]"
      ]
     },
     "metadata": {},
     "output_type": "display_data"
    },
    {
     "name": "stdout",
     "output_type": "stream",
     "text": [
      "epoch 29/50, Loss: 0.0000186473\n"
     ]
    },
    {
     "data": {
      "application/vnd.jupyter.widget-view+json": {
       "model_id": "16d6ddae10424893a49fb01f599dcdcd",
       "version_major": 2,
       "version_minor": 0
      },
      "text/plain": [
       "  0%|          | 0/112 [00:00<?, ?it/s]"
      ]
     },
     "metadata": {},
     "output_type": "display_data"
    },
    {
     "name": "stdout",
     "output_type": "stream",
     "text": [
      "epoch 30/50, Loss: 0.0000186923\n"
     ]
    },
    {
     "data": {
      "application/vnd.jupyter.widget-view+json": {
       "model_id": "367fa61cc9e84a4cab720ee51e6d950b",
       "version_major": 2,
       "version_minor": 0
      },
      "text/plain": [
       "  0%|          | 0/112 [00:00<?, ?it/s]"
      ]
     },
     "metadata": {},
     "output_type": "display_data"
    },
    {
     "name": "stdout",
     "output_type": "stream",
     "text": [
      "epoch 31/50, Loss: 0.0000185307\n"
     ]
    },
    {
     "data": {
      "application/vnd.jupyter.widget-view+json": {
       "model_id": "d6681cb65a9145fd918f65d634ce9bc3",
       "version_major": 2,
       "version_minor": 0
      },
      "text/plain": [
       "  0%|          | 0/112 [00:00<?, ?it/s]"
      ]
     },
     "metadata": {},
     "output_type": "display_data"
    },
    {
     "name": "stdout",
     "output_type": "stream",
     "text": [
      "epoch 32/50, Loss: 0.0000183340\n"
     ]
    },
    {
     "data": {
      "application/vnd.jupyter.widget-view+json": {
       "model_id": "75ce1c30bebf43d3bac40125b4a06c3a",
       "version_major": 2,
       "version_minor": 0
      },
      "text/plain": [
       "  0%|          | 0/112 [00:00<?, ?it/s]"
      ]
     },
     "metadata": {},
     "output_type": "display_data"
    },
    {
     "name": "stdout",
     "output_type": "stream",
     "text": [
      "epoch 33/50, Loss: 0.0000187889\n"
     ]
    },
    {
     "data": {
      "application/vnd.jupyter.widget-view+json": {
       "model_id": "382a81f654ec4493a17134d8d8372a67",
       "version_major": 2,
       "version_minor": 0
      },
      "text/plain": [
       "  0%|          | 0/112 [00:00<?, ?it/s]"
      ]
     },
     "metadata": {},
     "output_type": "display_data"
    },
    {
     "name": "stdout",
     "output_type": "stream",
     "text": [
      "epoch 34/50, Loss: 0.0000187123\n"
     ]
    },
    {
     "data": {
      "application/vnd.jupyter.widget-view+json": {
       "model_id": "fd1e851f063f4c95941bb185f43a4ac0",
       "version_major": 2,
       "version_minor": 0
      },
      "text/plain": [
       "  0%|          | 0/112 [00:00<?, ?it/s]"
      ]
     },
     "metadata": {},
     "output_type": "display_data"
    },
    {
     "name": "stdout",
     "output_type": "stream",
     "text": [
      "epoch 35/50, Loss: 0.0000186923\n"
     ]
    },
    {
     "data": {
      "application/vnd.jupyter.widget-view+json": {
       "model_id": "1bf4382861a34dd2984754ea93e93ae4",
       "version_major": 2,
       "version_minor": 0
      },
      "text/plain": [
       "  0%|          | 0/112 [00:00<?, ?it/s]"
      ]
     },
     "metadata": {},
     "output_type": "display_data"
    },
    {
     "name": "stdout",
     "output_type": "stream",
     "text": [
      "epoch 36/50, Loss: 0.0000187399\n"
     ]
    },
    {
     "data": {
      "application/vnd.jupyter.widget-view+json": {
       "model_id": "bbaa57ab2f7245908f4c6c2d2a72300f",
       "version_major": 2,
       "version_minor": 0
      },
      "text/plain": [
       "  0%|          | 0/112 [00:00<?, ?it/s]"
      ]
     },
     "metadata": {},
     "output_type": "display_data"
    },
    {
     "name": "stdout",
     "output_type": "stream",
     "text": [
      "epoch 37/50, Loss: 0.0000186840\n"
     ]
    },
    {
     "data": {
      "application/vnd.jupyter.widget-view+json": {
       "model_id": "3d92d1aaf07341558402fc5e6f5f51f8",
       "version_major": 2,
       "version_minor": 0
      },
      "text/plain": [
       "  0%|          | 0/112 [00:00<?, ?it/s]"
      ]
     },
     "metadata": {},
     "output_type": "display_data"
    },
    {
     "name": "stdout",
     "output_type": "stream",
     "text": [
      "epoch 38/50, Loss: 0.0000189452\n"
     ]
    },
    {
     "data": {
      "application/vnd.jupyter.widget-view+json": {
       "model_id": "d9c1634b5ee8448da1f12f9c24d5138c",
       "version_major": 2,
       "version_minor": 0
      },
      "text/plain": [
       "  0%|          | 0/112 [00:00<?, ?it/s]"
      ]
     },
     "metadata": {},
     "output_type": "display_data"
    },
    {
     "name": "stdout",
     "output_type": "stream",
     "text": [
      "epoch 39/50, Loss: 0.0000182741\n"
     ]
    },
    {
     "data": {
      "application/vnd.jupyter.widget-view+json": {
       "model_id": "f1c507db3f7041b6a1033ff28927b097",
       "version_major": 2,
       "version_minor": 0
      },
      "text/plain": [
       "  0%|          | 0/112 [00:00<?, ?it/s]"
      ]
     },
     "metadata": {},
     "output_type": "display_data"
    },
    {
     "name": "stdout",
     "output_type": "stream",
     "text": [
      "epoch 40/50, Loss: 0.0000182725\n"
     ]
    },
    {
     "data": {
      "application/vnd.jupyter.widget-view+json": {
       "model_id": "31620eb5560b4987b84ce44154793298",
       "version_major": 2,
       "version_minor": 0
      },
      "text/plain": [
       "  0%|          | 0/112 [00:00<?, ?it/s]"
      ]
     },
     "metadata": {},
     "output_type": "display_data"
    },
    {
     "name": "stdout",
     "output_type": "stream",
     "text": [
      "epoch 41/50, Loss: 0.0000178158\n"
     ]
    },
    {
     "data": {
      "application/vnd.jupyter.widget-view+json": {
       "model_id": "4942c6c9f3eb466881134df81ce0dba0",
       "version_major": 2,
       "version_minor": 0
      },
      "text/plain": [
       "  0%|          | 0/112 [00:00<?, ?it/s]"
      ]
     },
     "metadata": {},
     "output_type": "display_data"
    },
    {
     "name": "stdout",
     "output_type": "stream",
     "text": [
      "epoch 42/50, Loss: 0.0000180438\n"
     ]
    },
    {
     "data": {
      "application/vnd.jupyter.widget-view+json": {
       "model_id": "7119fe85963e4c18b2a4ec1fd2049845",
       "version_major": 2,
       "version_minor": 0
      },
      "text/plain": [
       "  0%|          | 0/112 [00:00<?, ?it/s]"
      ]
     },
     "metadata": {},
     "output_type": "display_data"
    },
    {
     "name": "stdout",
     "output_type": "stream",
     "text": [
      "epoch 43/50, Loss: 0.0000190102\n"
     ]
    },
    {
     "data": {
      "application/vnd.jupyter.widget-view+json": {
       "model_id": "bab0f2fac9094843896dfffe6a8ea66a",
       "version_major": 2,
       "version_minor": 0
      },
      "text/plain": [
       "  0%|          | 0/112 [00:00<?, ?it/s]"
      ]
     },
     "metadata": {},
     "output_type": "display_data"
    },
    {
     "name": "stdout",
     "output_type": "stream",
     "text": [
      "epoch 44/50, Loss: 0.0000184370\n"
     ]
    },
    {
     "data": {
      "application/vnd.jupyter.widget-view+json": {
       "model_id": "17c6824337c54ce98453b726c0b3b568",
       "version_major": 2,
       "version_minor": 0
      },
      "text/plain": [
       "  0%|          | 0/112 [00:00<?, ?it/s]"
      ]
     },
     "metadata": {},
     "output_type": "display_data"
    },
    {
     "name": "stdout",
     "output_type": "stream",
     "text": [
      "epoch 45/50, Loss: 0.0000182012\n"
     ]
    },
    {
     "data": {
      "application/vnd.jupyter.widget-view+json": {
       "model_id": "de169aa412874af696c67a25c292c843",
       "version_major": 2,
       "version_minor": 0
      },
      "text/plain": [
       "  0%|          | 0/112 [00:00<?, ?it/s]"
      ]
     },
     "metadata": {},
     "output_type": "display_data"
    },
    {
     "name": "stdout",
     "output_type": "stream",
     "text": [
      "epoch 46/50, Loss: 0.0000181479\n"
     ]
    },
    {
     "data": {
      "application/vnd.jupyter.widget-view+json": {
       "model_id": "0890cc5cf7b64ef486e9b37d99b60a6b",
       "version_major": 2,
       "version_minor": 0
      },
      "text/plain": [
       "  0%|          | 0/112 [00:00<?, ?it/s]"
      ]
     },
     "metadata": {},
     "output_type": "display_data"
    },
    {
     "name": "stdout",
     "output_type": "stream",
     "text": [
      "epoch 47/50, Loss: 0.0000180061\n"
     ]
    },
    {
     "data": {
      "application/vnd.jupyter.widget-view+json": {
       "model_id": "9dc0f625ee1b4b579afe63dd0e6395cc",
       "version_major": 2,
       "version_minor": 0
      },
      "text/plain": [
       "  0%|          | 0/112 [00:00<?, ?it/s]"
      ]
     },
     "metadata": {},
     "output_type": "display_data"
    },
    {
     "name": "stdout",
     "output_type": "stream",
     "text": [
      "epoch 48/50, Loss: 0.0000184588\n"
     ]
    },
    {
     "data": {
      "application/vnd.jupyter.widget-view+json": {
       "model_id": "1566559781c448778e4544d149a1058d",
       "version_major": 2,
       "version_minor": 0
      },
      "text/plain": [
       "  0%|          | 0/112 [00:00<?, ?it/s]"
      ]
     },
     "metadata": {},
     "output_type": "display_data"
    },
    {
     "name": "stdout",
     "output_type": "stream",
     "text": [
      "epoch 49/50, Loss: 0.0000187809\n"
     ]
    },
    {
     "data": {
      "application/vnd.jupyter.widget-view+json": {
       "model_id": "f16b2dac368d4b1b8235a5bf99f4f34f",
       "version_major": 2,
       "version_minor": 0
      },
      "text/plain": [
       "  0%|          | 0/112 [00:00<?, ?it/s]"
      ]
     },
     "metadata": {},
     "output_type": "display_data"
    },
    {
     "name": "stdout",
     "output_type": "stream",
     "text": [
      "epoch 50/50, Loss: 0.0000181635\n"
     ]
    }
   ],
   "source": [
    "epochs = 50\n",
    "scheduler = torch.optim.lr_scheduler.StepLR(optimizer, step_size = 10, gamma = 0.1)\n",
    "\n",
    "# training loop\n",
    "for epoch in range(epochs):\n",
    "    model.train()\n",
    "    epoch_loss = 0\n",
    "    \n",
    "    for seq, labels in tqdm(train_loader):\n",
    "        seq = seq.view(seq.size(0), seq.size(1), -1)\n",
    "        labels = labels.view(-1, 1)\n",
    "        \n",
    "        optimizer.zero_grad()\n",
    "        \n",
    "        y_pred = model(seq)\n",
    "        \n",
    "        single_loss = loss_function(y_pred, labels)\n",
    "        \n",
    "        single_loss.backward()\n",
    "\n",
    "        torch.nn.utils.clip_grad_norm_(model.parameters(), max_norm = 5)\n",
    "        \n",
    "        optimizer.step()\n",
    "        \n",
    "        epoch_loss += single_loss.item()\n",
    "\n",
    "    scheduler.step()\n",
    "    \n",
    "    average_loss = epoch_loss / len(train_loader)\n",
    "    print(f'epoch {epoch+1}/{epochs}, Loss: {average_loss:.10f}')"
   ]
  },
  {
   "cell_type": "code",
   "execution_count": 34,
   "id": "e312ff6a-a6ae-475b-9f90-407f14a320a4",
   "metadata": {},
   "outputs": [],
   "source": [
    "model.eval()\n",
    "\n",
    "test_sequences = torch.tensor([seq for seq, _ in test], dtype = torch.float32)\n",
    "test_labels = torch.tensor([label for _, label in test], dtype = torch.float32)\n",
    "\n",
    "with torch.no_grad():\n",
    "    predictions = model(test_sequences).view(-1)"
   ]
  },
  {
   "cell_type": "code",
   "execution_count": 67,
   "id": "a72d84de-fa08-46ad-976a-28ffbc904b64",
   "metadata": {},
   "outputs": [
    {
     "name": "stdout",
     "output_type": "stream",
     "text": [
      "Scaled MAE:  0.034891833\n",
      "Scaled RMSE:  0.04945927\n"
     ]
    }
   ],
   "source": [
    "print('Scaled MAE: ', mean_absolute_error(test_labels, predictions))\n",
    "print('Scaled RMSE: ', np.sqrt(mean_squared_error(test_labels, predictions)))"
   ]
  },
  {
   "cell_type": "code",
   "execution_count": 59,
   "id": "fe8af421-11a5-4e89-bb9b-6cb8248a7c42",
   "metadata": {},
   "outputs": [],
   "source": [
    "pred_new = scaler.inverse_transform(\n",
    "    np.c_[np.zeros(1534), np.zeros(1534), np.zeros(1534), np.zeros(1534), predictions.numpy()]\n",
    ")"
   ]
  },
  {
   "cell_type": "code",
   "execution_count": 65,
   "id": "d30e89eb-541f-4a8f-842f-33508da845f6",
   "metadata": {},
   "outputs": [],
   "source": [
    "test_lab_new = scaler.inverse_transform(\n",
    "    np.c_[np.zeros(1534), np.zeros(1534), np.zeros(1534), np.zeros(1534), test_labels.numpy()]\n",
    ")"
   ]
  },
  {
   "cell_type": "code",
   "execution_count": 90,
   "id": "67e6769b-87bc-4db2-9f2a-ce5460641556",
   "metadata": {},
   "outputs": [],
   "source": [
    "test_lab_new = np.array(test_lab_new)\n",
    "pred_new = np.array(pred_new)\n"
   ]
  },
  {
   "cell_type": "code",
   "execution_count": 292,
   "id": "aecb7898-8a8b-4e80-80c4-524896a77b9b",
   "metadata": {},
   "outputs": [
    {
     "name": "stdout",
     "output_type": "stream",
     "text": [
      "Actual MAE: 6.774502497888968\n",
      "Actual RMSE: 9.602875793243749\n"
     ]
    }
   ],
   "source": [
    "print('Actual MAE:', mean_absolute_error(test_lab_new[:,4], pred_new[:,4]))\n",
    "print('Actual RMSE:', np.sqrt(mean_squared_error(test_lab_new[:,4], pred_new[:,4])))"
   ]
  },
  {
   "cell_type": "code",
   "execution_count": 151,
   "id": "31c80fa3-aa20-450d-b8c8-8f8f6b316faa",
   "metadata": {},
   "outputs": [
    {
     "data": {
      "image/png": "[encoded data removed]",
      "text/plain": [
       "<Figure size 640x480 with 1 Axes>"
      ]
     },
     "metadata": {},
     "output_type": "display_data"
    }
   ],
   "source": [
    "plt.plot(test_lab_new[:,4], color = 'blue')\n",
    "plt.plot(pred_new[:,4], color = 'red')\n",
    "plt.title('Predicted vs Actual Closing Price')\n",
    "plt.legend([\"Predicted\", \"Actual\"])\n",
    "plt.ylabel('Closing Price ($)')\n",
    "plt.show()"
   ]
  },
  {
   "cell_type": "code",
   "execution_count": 153,
   "id": "e5da0245-2163-4cbe-95f0-36e11ae63338",
   "metadata": {},
   "outputs": [
    {
     "data": {
      "image/png": "[encoded data removed]",
      "text/plain": [
       "<Figure size 640x480 with 1 Axes>"
      ]
     },
     "metadata": {},
     "output_type": "display_data"
    }
   ],
   "source": [
    "residuals = test_lab_new[:,4] - pred_new[:,4]\n",
    "\n",
    "plt.plot(residuals, label=\"Residuals\", color=\"olivedrab\")\n",
    "plt.axhline(0, color=\"black\", linestyle=\"--\", linewidth=1)\n",
    "plt.title(\"Residuals (Errors) Analysis\")\n",
    "plt.ylabel(\"Residuals\")\n",
    "plt.show()"
   ]
  },
  {
   "cell_type": "code",
   "execution_count": null,
   "id": "6d2befa7-60b8-45dc-b670-f6585b0d37c4",
   "metadata": {},
   "outputs": [],
   "source": []
  },
  {
   "cell_type": "markdown",
   "id": "0ea3a77a-081e-4b94-984e-348d006277b5",
   "metadata": {},
   "source": [
    "The model does a pretty good job of predicting close price, especially from the 0-600 range. Yet, the model does underperform at certain points, the 600-800 and 1200-1600. It appears that when there are moments of extreme volatility, it's harder for the model to adjust, opposed to more steady performances. In general the residuals are above 0, indicating there is bias in the model. This is additionally confirmed by a mean bias of 6.3385, highlighting the model is underestimating prices. I'm going to attempt to combat this through feature engineering and adjusting the models complexity."
   ]
  },
  {
   "cell_type": "code",
   "execution_count": 168,
   "id": "419e5fa1-a7fb-48a2-b803-abe09bb3f4c1",
   "metadata": {},
   "outputs": [
    {
     "name": "stdout",
     "output_type": "stream",
     "text": [
      "Mean Bias: 6.3385\n"
     ]
    }
   ],
   "source": [
    "mean_bias = residuals.mean()\n",
    "print(f\"Mean Bias: {mean_bias:.4f}\")"
   ]
  },
  {
   "cell_type": "code",
   "execution_count": 190,
   "id": "10abd09e-8cbd-4c9e-97de-ab69031ec472",
   "metadata": {},
   "outputs": [
    {
     "name": "stderr",
     "output_type": "stream",
     "text": [
      "/var/folders/j6/dnffdgcd71z4km6khzwmss5w0000gn/T/ipykernel_70510/248824653.py:2: FutureWarning: ChainedAssignmentError: behaviour will change in pandas 3.0!\n",
      "You are setting values through chained assignment. Currently this works in certain cases, but when using Copy-on-Write (which will become the default behaviour in pandas 3.0) this will never work to update the original DataFrame or Series, because the intermediate object on which we are setting values will behave as a copy.\n",
      "A typical example is when you are setting values in a column of a DataFrame, like:\n",
      "\n",
      "df[\"col\"][row_indexer] = value\n",
      "\n",
      "Use `df.loc[row_indexer, \"col\"] = values` instead, to perform the assignment in a single step and ensure this keeps updating the original `df`.\n",
      "\n",
      "See the caveats in the documentation: https://pandas.pydata.org/pandas-docs/stable/user_guide/indexing.html#returning-a-view-versus-a-copy\n",
      "\n",
      "  df['Week_Volatility'].iloc[:6] = df['Week_Volatility'].iloc[6]  # make first 6 NaNs with the first valid value\n",
      "/var/folders/j6/dnffdgcd71z4km6khzwmss5w0000gn/T/ipykernel_70510/248824653.py:2: SettingWithCopyWarning: \n",
      "A value is trying to be set on a copy of a slice from a DataFrame\n",
      "\n",
      "See the caveats in the documentation: https://pandas.pydata.org/pandas-docs/stable/user_guide/indexing.html#returning-a-view-versus-a-copy\n",
      "  df['Week_Volatility'].iloc[:6] = df['Week_Volatility'].iloc[6]  # make first 6 NaNs with the first valid value\n",
      "/var/folders/j6/dnffdgcd71z4km6khzwmss5w0000gn/T/ipykernel_70510/248824653.py:3: FutureWarning: ChainedAssignmentError: behaviour will change in pandas 3.0!\n",
      "You are setting values through chained assignment. Currently this works in certain cases, but when using Copy-on-Write (which will become the default behaviour in pandas 3.0) this will never work to update the original DataFrame or Series, because the intermediate object on which we are setting values will behave as a copy.\n",
      "A typical example is when you are setting values in a column of a DataFrame, like:\n",
      "\n",
      "df[\"col\"][row_indexer] = value\n",
      "\n",
      "Use `df.loc[row_indexer, \"col\"] = values` instead, to perform the assignment in a single step and ensure this keeps updating the original `df`.\n",
      "\n",
      "See the caveats in the documentation: https://pandas.pydata.org/pandas-docs/stable/user_guide/indexing.html#returning-a-view-versus-a-copy\n",
      "\n",
      "  df['Daily_Return'].iloc[0] = 0\n",
      "/var/folders/j6/dnffdgcd71z4km6khzwmss5w0000gn/T/ipykernel_70510/248824653.py:3: SettingWithCopyWarning: \n",
      "A value is trying to be set on a copy of a slice from a DataFrame\n",
      "\n",
      "See the caveats in the documentation: https://pandas.pydata.org/pandas-docs/stable/user_guide/indexing.html#returning-a-view-versus-a-copy\n",
      "  df['Daily_Return'].iloc[0] = 0\n"
     ]
    },
    {
     "data": {
      "text/html": [
       "<div>\n",
       "<style scoped>\n",
       "    .dataframe tbody tr th:only-of-type {\n",
       "        vertical-align: middle;\n",
       "    }\n",
       "\n",
       "    .dataframe tbody tr th {\n",
       "        vertical-align: top;\n",
       "    }\n",
       "\n",
       "    .dataframe thead th {\n",
       "        text-align: right;\n",
       "    }\n",
       "</style>\n",
       "<table border=\"1\" class=\"dataframe\">\n",
       "  <thead>\n",
       "    <tr style=\"text-align: right;\">\n",
       "      <th></th>\n",
       "      <th>Date</th>\n",
       "      <th>Open</th>\n",
       "      <th>High</th>\n",
       "      <th>Low</th>\n",
       "      <th>Close</th>\n",
       "      <th>Adj Close</th>\n",
       "      <th>Volume</th>\n",
       "      <th>Daily_Return</th>\n",
       "      <th>Daily_Change</th>\n",
       "      <th>Week_Volatility</th>\n",
       "    </tr>\n",
       "  </thead>\n",
       "  <tbody>\n",
       "    <tr>\n",
       "      <th>0</th>\n",
       "      <td>2004-08-19</td>\n",
       "      <td>2.502503</td>\n",
       "      <td>2.604104</td>\n",
       "      <td>2.401401</td>\n",
       "      <td>2.511011</td>\n",
       "      <td>2.501941</td>\n",
       "      <td>893181924</td>\n",
       "      <td>0.000000</td>\n",
       "      <td>0.008508</td>\n",
       "      <td>0.074896</td>\n",
       "    </tr>\n",
       "    <tr>\n",
       "      <th>1</th>\n",
       "      <td>2004-08-20</td>\n",
       "      <td>2.527778</td>\n",
       "      <td>2.729730</td>\n",
       "      <td>2.515015</td>\n",
       "      <td>2.710460</td>\n",
       "      <td>2.700670</td>\n",
       "      <td>456686856</td>\n",
       "      <td>7.942979</td>\n",
       "      <td>0.182682</td>\n",
       "      <td>0.074896</td>\n",
       "    </tr>\n",
       "    <tr>\n",
       "      <th>2</th>\n",
       "      <td>2004-08-23</td>\n",
       "      <td>2.771522</td>\n",
       "      <td>2.839840</td>\n",
       "      <td>2.728979</td>\n",
       "      <td>2.737738</td>\n",
       "      <td>2.727849</td>\n",
       "      <td>365122512</td>\n",
       "      <td>1.006395</td>\n",
       "      <td>-0.033784</td>\n",
       "      <td>0.074896</td>\n",
       "    </tr>\n",
       "    <tr>\n",
       "      <th>3</th>\n",
       "      <td>2004-08-24</td>\n",
       "      <td>2.783784</td>\n",
       "      <td>2.792793</td>\n",
       "      <td>2.591842</td>\n",
       "      <td>2.624374</td>\n",
       "      <td>2.614895</td>\n",
       "      <td>304946748</td>\n",
       "      <td>-4.140790</td>\n",
       "      <td>-0.159410</td>\n",
       "      <td>0.074896</td>\n",
       "    </tr>\n",
       "    <tr>\n",
       "      <th>4</th>\n",
       "      <td>2004-08-25</td>\n",
       "      <td>2.626627</td>\n",
       "      <td>2.702703</td>\n",
       "      <td>2.599600</td>\n",
       "      <td>2.652653</td>\n",
       "      <td>2.643072</td>\n",
       "      <td>183772044</td>\n",
       "      <td>1.077555</td>\n",
       "      <td>0.026026</td>\n",
       "      <td>0.074896</td>\n",
       "    </tr>\n",
       "  </tbody>\n",
       "</table>\n",
       "</div>"
      ],
      "text/plain": [
       "        Date      Open      High       Low     Close  Adj Close     Volume  \\\n",
       "0 2004-08-19  2.502503  2.604104  2.401401  2.511011   2.501941  893181924   \n",
       "1 2004-08-20  2.527778  2.729730  2.515015  2.710460   2.700670  456686856   \n",
       "2 2004-08-23  2.771522  2.839840  2.728979  2.737738   2.727849  365122512   \n",
       "3 2004-08-24  2.783784  2.792793  2.591842  2.624374   2.614895  304946748   \n",
       "4 2004-08-25  2.626627  2.702703  2.599600  2.652653   2.643072  183772044   \n",
       "\n",
       "   Daily_Return  Daily_Change  Week_Volatility  \n",
       "0      0.000000      0.008508         0.074896  \n",
       "1      7.942979      0.182682         0.074896  \n",
       "2      1.006395     -0.033784         0.074896  \n",
       "3     -4.140790     -0.159410         0.074896  \n",
       "4      1.077555      0.026026         0.074896  "
      ]
     },
     "execution_count": 190,
     "metadata": {},
     "output_type": "execute_result"
    }
   ],
   "source": [
    "df['Week_Volatility'] = df['Close'].rolling(window = 7).std()\n",
    "df['Week_Volatility'].iloc[:6] = df['Week_Volatility'].iloc[6]  # make first 6 NaNs with the first valid value\n",
    "df['Daily_Return'].iloc[0] = 0\n",
    "df.head()"
   ]
  },
  {
   "cell_type": "code",
   "execution_count": 400,
   "id": "84fedc5d-8f56-45e4-816c-08c8a0523c2b",
   "metadata": {},
   "outputs": [],
   "source": [
    "features2 = df[['Open', 'High', 'Low', 'Week_Volatility']].values\n",
    "feat_new = scaler.fit_transform(features2)\n",
    "\n",
    "target = df['Close'].values.reshape(-1, 1)\n",
    "target = scaler.fit_transform(target)"
   ]
  },
  {
   "cell_type": "code",
   "execution_count": 402,
   "id": "8ad9b2fc-f6dc-41fe-8d49-d02acf938827",
   "metadata": {},
   "outputs": [],
   "source": [
    "#target is still close price, but new features are added to LSTM\n",
    "data_new = create_sequences(feat_new, target, train_window)"
   ]
  },
  {
   "cell_type": "code",
   "execution_count": 404,
   "id": "6c28d834-99d8-4100-8400-851eb01bf5b7",
   "metadata": {},
   "outputs": [],
   "source": [
    "test_size = 0.3\n",
    "split_index2 = int(len(data_new) * (1 - test_size))\n",
    "\n",
    "train2 = data_new[:split_index2]\n",
    "test2 = data_new[split_index2:]\n",
    "\n",
    "train_seq2 = torch.tensor([seq for seq, _ in train2], dtype = torch.float32)\n",
    "train_lab2 = torch.tensor([label for _, label in train2], dtype = torch.float32)\n",
    "\n",
    "batch_size = 32\n",
    "train_dataset2 = TensorDataset(train_seq2, train_lab2)\n",
    "train_loader2 = DataLoader(train_dataset2, batch_size = batch_size, shuffle = True)"
   ]
  },
  {
   "cell_type": "code",
   "execution_count": 406,
   "id": "24cdf961-4908-4920-8341-f507e8dbe2c8",
   "metadata": {},
   "outputs": [],
   "source": [
    "lstm2 = LSTM(input_size = 4, hidden_layer_size = 200, output_size = 1, num_layers = 2)"
   ]
  },
  {
   "cell_type": "code",
   "execution_count": null,
   "id": "f59a2654-ff0d-4c41-aeb9-cf85cfdf72cf",
   "metadata": {},
   "outputs": [],
   "source": []
  },
  {
   "cell_type": "code",
   "execution_count": 408,
   "id": "20707a9e-54b9-4b84-a565-b56c6dcf63b4",
   "metadata": {},
   "outputs": [
    {
     "data": {
      "application/vnd.jupyter.widget-view+json": {
       "model_id": "f86f62b3d4d0402a90f9deefc4bf670a",
       "version_major": 2,
       "version_minor": 0
      },
      "text/plain": [
       "  0%|          | 0/112 [00:00<?, ?it/s]"
      ]
     },
     "metadata": {},
     "output_type": "display_data"
    },
    {
     "name": "stdout",
     "output_type": "stream",
     "text": [
      "epoch 1/50, Loss: 0.0012599139\n"
     ]
    },
    {
     "data": {
      "application/vnd.jupyter.widget-view+json": {
       "model_id": "653e6551d16c44798428dd50ddb3e1ac",
       "version_major": 2,
       "version_minor": 0
      },
      "text/plain": [
       "  0%|          | 0/112 [00:00<?, ?it/s]"
      ]
     },
     "metadata": {},
     "output_type": "display_data"
    },
    {
     "name": "stdout",
     "output_type": "stream",
     "text": [
      "epoch 2/50, Loss: 0.0000313023\n"
     ]
    },
    {
     "data": {
      "application/vnd.jupyter.widget-view+json": {
       "model_id": "1c753e0f66ff4e7daf42285068a6c345",
       "version_major": 2,
       "version_minor": 0
      },
      "text/plain": [
       "  0%|          | 0/112 [00:00<?, ?it/s]"
      ]
     },
     "metadata": {},
     "output_type": "display_data"
    },
    {
     "name": "stdout",
     "output_type": "stream",
     "text": [
      "epoch 3/50, Loss: 0.0000379878\n"
     ]
    },
    {
     "data": {
      "application/vnd.jupyter.widget-view+json": {
       "model_id": "5a9d0fbe6040401f9f70ef86dbf2a0b1",
       "version_major": 2,
       "version_minor": 0
      },
      "text/plain": [
       "  0%|          | 0/112 [00:00<?, ?it/s]"
      ]
     },
     "metadata": {},
     "output_type": "display_data"
    },
    {
     "name": "stdout",
     "output_type": "stream",
     "text": [
      "epoch 4/50, Loss: 0.0000290210\n"
     ]
    },
    {
     "data": {
      "application/vnd.jupyter.widget-view+json": {
       "model_id": "869bc28d410b493789fc0c5b7465767d",
       "version_major": 2,
       "version_minor": 0
      },
      "text/plain": [
       "  0%|          | 0/112 [00:00<?, ?it/s]"
      ]
     },
     "metadata": {},
     "output_type": "display_data"
    },
    {
     "name": "stdout",
     "output_type": "stream",
     "text": [
      "epoch 5/50, Loss: 0.0000270909\n"
     ]
    },
    {
     "data": {
      "application/vnd.jupyter.widget-view+json": {
       "model_id": "9556dd0f497649e2abff0af306e2c6ad",
       "version_major": 2,
       "version_minor": 0
      },
      "text/plain": [
       "  0%|          | 0/112 [00:00<?, ?it/s]"
      ]
     },
     "metadata": {},
     "output_type": "display_data"
    },
    {
     "name": "stdout",
     "output_type": "stream",
     "text": [
      "epoch 6/50, Loss: 0.0000326130\n"
     ]
    },
    {
     "data": {
      "application/vnd.jupyter.widget-view+json": {
       "model_id": "f9376c21bad84063b0ee64fffd9e5b70",
       "version_major": 2,
       "version_minor": 0
      },
      "text/plain": [
       "  0%|          | 0/112 [00:00<?, ?it/s]"
      ]
     },
     "metadata": {},
     "output_type": "display_data"
    },
    {
     "name": "stdout",
     "output_type": "stream",
     "text": [
      "epoch 7/50, Loss: 0.0000246895\n"
     ]
    },
    {
     "data": {
      "application/vnd.jupyter.widget-view+json": {
       "model_id": "7757ff006be34ca6b714025c8602b1b6",
       "version_major": 2,
       "version_minor": 0
      },
      "text/plain": [
       "  0%|          | 0/112 [00:00<?, ?it/s]"
      ]
     },
     "metadata": {},
     "output_type": "display_data"
    },
    {
     "name": "stdout",
     "output_type": "stream",
     "text": [
      "epoch 8/50, Loss: 0.0000246789\n"
     ]
    },
    {
     "data": {
      "application/vnd.jupyter.widget-view+json": {
       "model_id": "d4a076477eaf46eaa902b807fc7f6084",
       "version_major": 2,
       "version_minor": 0
      },
      "text/plain": [
       "  0%|          | 0/112 [00:00<?, ?it/s]"
      ]
     },
     "metadata": {},
     "output_type": "display_data"
    },
    {
     "name": "stdout",
     "output_type": "stream",
     "text": [
      "epoch 9/50, Loss: 0.0000241895\n"
     ]
    },
    {
     "data": {
      "application/vnd.jupyter.widget-view+json": {
       "model_id": "8ef3782ea9cf485d904faf4547d97d6b",
       "version_major": 2,
       "version_minor": 0
      },
      "text/plain": [
       "  0%|          | 0/112 [00:00<?, ?it/s]"
      ]
     },
     "metadata": {},
     "output_type": "display_data"
    },
    {
     "name": "stdout",
     "output_type": "stream",
     "text": [
      "epoch 10/50, Loss: 0.0000240418\n"
     ]
    },
    {
     "data": {
      "application/vnd.jupyter.widget-view+json": {
       "model_id": "5f4bd182cafb46fb9e771d8278151d76",
       "version_major": 2,
       "version_minor": 0
      },
      "text/plain": [
       "  0%|          | 0/112 [00:00<?, ?it/s]"
      ]
     },
     "metadata": {},
     "output_type": "display_data"
    },
    {
     "name": "stdout",
     "output_type": "stream",
     "text": [
      "epoch 11/50, Loss: 0.0000246883\n"
     ]
    },
    {
     "data": {
      "application/vnd.jupyter.widget-view+json": {
       "model_id": "816d0c316b9947cf81983739832a7a05",
       "version_major": 2,
       "version_minor": 0
      },
      "text/plain": [
       "  0%|          | 0/112 [00:00<?, ?it/s]"
      ]
     },
     "metadata": {},
     "output_type": "display_data"
    },
    {
     "name": "stdout",
     "output_type": "stream",
     "text": [
      "epoch 12/50, Loss: 0.0000222882\n"
     ]
    },
    {
     "data": {
      "application/vnd.jupyter.widget-view+json": {
       "model_id": "4c7d5a10bcd740c7ac20a9e5813292ef",
       "version_major": 2,
       "version_minor": 0
      },
      "text/plain": [
       "  0%|          | 0/112 [00:00<?, ?it/s]"
      ]
     },
     "metadata": {},
     "output_type": "display_data"
    },
    {
     "name": "stdout",
     "output_type": "stream",
     "text": [
      "epoch 13/50, Loss: 0.0000297121\n"
     ]
    },
    {
     "data": {
      "application/vnd.jupyter.widget-view+json": {
       "model_id": "82cba2449fee4078af605f81d86b70ba",
       "version_major": 2,
       "version_minor": 0
      },
      "text/plain": [
       "  0%|          | 0/112 [00:00<?, ?it/s]"
      ]
     },
     "metadata": {},
     "output_type": "display_data"
    },
    {
     "name": "stdout",
     "output_type": "stream",
     "text": [
      "epoch 14/50, Loss: 0.0000227352\n"
     ]
    },
    {
     "data": {
      "application/vnd.jupyter.widget-view+json": {
       "model_id": "ec6e6e11c2344897945f16b84c622ae7",
       "version_major": 2,
       "version_minor": 0
      },
      "text/plain": [
       "  0%|          | 0/112 [00:00<?, ?it/s]"
      ]
     },
     "metadata": {},
     "output_type": "display_data"
    },
    {
     "name": "stdout",
     "output_type": "stream",
     "text": [
      "epoch 15/50, Loss: 0.0000238177\n"
     ]
    },
    {
     "data": {
      "application/vnd.jupyter.widget-view+json": {
       "model_id": "ca5e3c075659493fb29b05c35baec6c6",
       "version_major": 2,
       "version_minor": 0
      },
      "text/plain": [
       "  0%|          | 0/112 [00:00<?, ?it/s]"
      ]
     },
     "metadata": {},
     "output_type": "display_data"
    },
    {
     "name": "stdout",
     "output_type": "stream",
     "text": [
      "epoch 16/50, Loss: 0.0000312370\n"
     ]
    },
    {
     "data": {
      "application/vnd.jupyter.widget-view+json": {
       "model_id": "3c30e88b667b441095f6f0eb3fbf46a9",
       "version_major": 2,
       "version_minor": 0
      },
      "text/plain": [
       "  0%|          | 0/112 [00:00<?, ?it/s]"
      ]
     },
     "metadata": {},
     "output_type": "display_data"
    },
    {
     "name": "stdout",
     "output_type": "stream",
     "text": [
      "epoch 17/50, Loss: 0.0000248810\n"
     ]
    },
    {
     "data": {
      "application/vnd.jupyter.widget-view+json": {
       "model_id": "302d628a8df7465ba3cfef2f3ba2a6df",
       "version_major": 2,
       "version_minor": 0
      },
      "text/plain": [
       "  0%|          | 0/112 [00:00<?, ?it/s]"
      ]
     },
     "metadata": {},
     "output_type": "display_data"
    },
    {
     "name": "stdout",
     "output_type": "stream",
     "text": [
      "epoch 18/50, Loss: 0.0000319712\n"
     ]
    },
    {
     "data": {
      "application/vnd.jupyter.widget-view+json": {
       "model_id": "7b746bab94dc4d7cb59073cd6469286f",
       "version_major": 2,
       "version_minor": 0
      },
      "text/plain": [
       "  0%|          | 0/112 [00:00<?, ?it/s]"
      ]
     },
     "metadata": {},
     "output_type": "display_data"
    },
    {
     "name": "stdout",
     "output_type": "stream",
     "text": [
      "epoch 19/50, Loss: 0.0000277636\n"
     ]
    },
    {
     "data": {
      "application/vnd.jupyter.widget-view+json": {
       "model_id": "d402859708e04aebb0d8b39df5757f17",
       "version_major": 2,
       "version_minor": 0
      },
      "text/plain": [
       "  0%|          | 0/112 [00:00<?, ?it/s]"
      ]
     },
     "metadata": {},
     "output_type": "display_data"
    },
    {
     "name": "stdout",
     "output_type": "stream",
     "text": [
      "epoch 20/50, Loss: 0.0000242318\n"
     ]
    },
    {
     "data": {
      "application/vnd.jupyter.widget-view+json": {
       "model_id": "f7a8c7b915b347e183fd50a461d822e2",
       "version_major": 2,
       "version_minor": 0
      },
      "text/plain": [
       "  0%|          | 0/112 [00:00<?, ?it/s]"
      ]
     },
     "metadata": {},
     "output_type": "display_data"
    },
    {
     "name": "stdout",
     "output_type": "stream",
     "text": [
      "epoch 21/50, Loss: 0.0000233430\n"
     ]
    },
    {
     "data": {
      "application/vnd.jupyter.widget-view+json": {
       "model_id": "0568e224b88348808628077685842b5a",
       "version_major": 2,
       "version_minor": 0
      },
      "text/plain": [
       "  0%|          | 0/112 [00:00<?, ?it/s]"
      ]
     },
     "metadata": {},
     "output_type": "display_data"
    },
    {
     "name": "stdout",
     "output_type": "stream",
     "text": [
      "epoch 22/50, Loss: 0.0000170648\n"
     ]
    },
    {
     "data": {
      "application/vnd.jupyter.widget-view+json": {
       "model_id": "fdcd8f73367945aeae81c664caf61ad9",
       "version_major": 2,
       "version_minor": 0
      },
      "text/plain": [
       "  0%|          | 0/112 [00:00<?, ?it/s]"
      ]
     },
     "metadata": {},
     "output_type": "display_data"
    },
    {
     "name": "stdout",
     "output_type": "stream",
     "text": [
      "epoch 23/50, Loss: 0.0000233535\n"
     ]
    },
    {
     "data": {
      "application/vnd.jupyter.widget-view+json": {
       "model_id": "3b9b21a083f14ec4860b08f1d7d86264",
       "version_major": 2,
       "version_minor": 0
      },
      "text/plain": [
       "  0%|          | 0/112 [00:00<?, ?it/s]"
      ]
     },
     "metadata": {},
     "output_type": "display_data"
    },
    {
     "name": "stdout",
     "output_type": "stream",
     "text": [
      "epoch 24/50, Loss: 0.0000205679\n"
     ]
    },
    {
     "data": {
      "application/vnd.jupyter.widget-view+json": {
       "model_id": "45f6f7997ff74a7f9ee399fafe3391a6",
       "version_major": 2,
       "version_minor": 0
      },
      "text/plain": [
       "  0%|          | 0/112 [00:00<?, ?it/s]"
      ]
     },
     "metadata": {},
     "output_type": "display_data"
    },
    {
     "name": "stdout",
     "output_type": "stream",
     "text": [
      "epoch 25/50, Loss: 0.0000175315\n"
     ]
    },
    {
     "data": {
      "application/vnd.jupyter.widget-view+json": {
       "model_id": "1e1cbbcd06654db884d2c305038e684a",
       "version_major": 2,
       "version_minor": 0
      },
      "text/plain": [
       "  0%|          | 0/112 [00:00<?, ?it/s]"
      ]
     },
     "metadata": {},
     "output_type": "display_data"
    },
    {
     "name": "stdout",
     "output_type": "stream",
     "text": [
      "epoch 26/50, Loss: 0.0000210118\n"
     ]
    },
    {
     "data": {
      "application/vnd.jupyter.widget-view+json": {
       "model_id": "178a2535ef9d49bfa71b53a49dd8c01c",
       "version_major": 2,
       "version_minor": 0
      },
      "text/plain": [
       "  0%|          | 0/112 [00:00<?, ?it/s]"
      ]
     },
     "metadata": {},
     "output_type": "display_data"
    },
    {
     "name": "stdout",
     "output_type": "stream",
     "text": [
      "epoch 27/50, Loss: 0.0000282991\n"
     ]
    },
    {
     "data": {
      "application/vnd.jupyter.widget-view+json": {
       "model_id": "63131ec886f84c00b66e5b3df44154c8",
       "version_major": 2,
       "version_minor": 0
      },
      "text/plain": [
       "  0%|          | 0/112 [00:00<?, ?it/s]"
      ]
     },
     "metadata": {},
     "output_type": "display_data"
    },
    {
     "name": "stdout",
     "output_type": "stream",
     "text": [
      "epoch 28/50, Loss: 0.0000212442\n"
     ]
    },
    {
     "data": {
      "application/vnd.jupyter.widget-view+json": {
       "model_id": "37719cfb8dd245d8be2b0584869d1807",
       "version_major": 2,
       "version_minor": 0
      },
      "text/plain": [
       "  0%|          | 0/112 [00:00<?, ?it/s]"
      ]
     },
     "metadata": {},
     "output_type": "display_data"
    },
    {
     "name": "stdout",
     "output_type": "stream",
     "text": [
      "epoch 29/50, Loss: 0.0000164400\n"
     ]
    },
    {
     "data": {
      "application/vnd.jupyter.widget-view+json": {
       "model_id": "00b934e1744d41afbc6c8592fa7b7115",
       "version_major": 2,
       "version_minor": 0
      },
      "text/plain": [
       "  0%|          | 0/112 [00:00<?, ?it/s]"
      ]
     },
     "metadata": {},
     "output_type": "display_data"
    },
    {
     "name": "stdout",
     "output_type": "stream",
     "text": [
      "epoch 30/50, Loss: 0.0000196061\n"
     ]
    },
    {
     "data": {
      "application/vnd.jupyter.widget-view+json": {
       "model_id": "976a80ea8f55448b9b823dd9310e272b",
       "version_major": 2,
       "version_minor": 0
      },
      "text/plain": [
       "  0%|          | 0/112 [00:00<?, ?it/s]"
      ]
     },
     "metadata": {},
     "output_type": "display_data"
    },
    {
     "name": "stdout",
     "output_type": "stream",
     "text": [
      "epoch 31/50, Loss: 0.0000150027\n"
     ]
    },
    {
     "data": {
      "application/vnd.jupyter.widget-view+json": {
       "model_id": "1b3e8b17fdd040b5ab9f83ab693ccbc3",
       "version_major": 2,
       "version_minor": 0
      },
      "text/plain": [
       "  0%|          | 0/112 [00:00<?, ?it/s]"
      ]
     },
     "metadata": {},
     "output_type": "display_data"
    },
    {
     "name": "stdout",
     "output_type": "stream",
     "text": [
      "epoch 32/50, Loss: 0.0000222888\n"
     ]
    },
    {
     "data": {
      "application/vnd.jupyter.widget-view+json": {
       "model_id": "5599945615b44c69b45d649d323ae3aa",
       "version_major": 2,
       "version_minor": 0
      },
      "text/plain": [
       "  0%|          | 0/112 [00:00<?, ?it/s]"
      ]
     },
     "metadata": {},
     "output_type": "display_data"
    },
    {
     "name": "stdout",
     "output_type": "stream",
     "text": [
      "epoch 33/50, Loss: 0.0000189737\n"
     ]
    },
    {
     "data": {
      "application/vnd.jupyter.widget-view+json": {
       "model_id": "2ef61e229c494c659ba14aeaa2eeda98",
       "version_major": 2,
       "version_minor": 0
      },
      "text/plain": [
       "  0%|          | 0/112 [00:00<?, ?it/s]"
      ]
     },
     "metadata": {},
     "output_type": "display_data"
    },
    {
     "name": "stdout",
     "output_type": "stream",
     "text": [
      "epoch 34/50, Loss: 0.0000154023\n"
     ]
    },
    {
     "data": {
      "application/vnd.jupyter.widget-view+json": {
       "model_id": "a7d01aa3c1024cbba412a71975e2e7f4",
       "version_major": 2,
       "version_minor": 0
      },
      "text/plain": [
       "  0%|          | 0/112 [00:00<?, ?it/s]"
      ]
     },
     "metadata": {},
     "output_type": "display_data"
    },
    {
     "name": "stdout",
     "output_type": "stream",
     "text": [
      "epoch 35/50, Loss: 0.0000184072\n"
     ]
    },
    {
     "data": {
      "application/vnd.jupyter.widget-view+json": {
       "model_id": "24f136a41c61431ca50ae4a9de447fea",
       "version_major": 2,
       "version_minor": 0
      },
      "text/plain": [
       "  0%|          | 0/112 [00:00<?, ?it/s]"
      ]
     },
     "metadata": {},
     "output_type": "display_data"
    },
    {
     "name": "stdout",
     "output_type": "stream",
     "text": [
      "epoch 36/50, Loss: 0.0000135790\n"
     ]
    },
    {
     "data": {
      "application/vnd.jupyter.widget-view+json": {
       "model_id": "2bfa888f8c1e403e9c854b0a017f5201",
       "version_major": 2,
       "version_minor": 0
      },
      "text/plain": [
       "  0%|          | 0/112 [00:00<?, ?it/s]"
      ]
     },
     "metadata": {},
     "output_type": "display_data"
    },
    {
     "name": "stdout",
     "output_type": "stream",
     "text": [
      "epoch 37/50, Loss: 0.0000154317\n"
     ]
    },
    {
     "data": {
      "application/vnd.jupyter.widget-view+json": {
       "model_id": "867f68d59e88463e80bda557d50d607d",
       "version_major": 2,
       "version_minor": 0
      },
      "text/plain": [
       "  0%|          | 0/112 [00:00<?, ?it/s]"
      ]
     },
     "metadata": {},
     "output_type": "display_data"
    },
    {
     "name": "stdout",
     "output_type": "stream",
     "text": [
      "epoch 38/50, Loss: 0.0000178597\n"
     ]
    },
    {
     "data": {
      "application/vnd.jupyter.widget-view+json": {
       "model_id": "4ec7dc07ef114e4fb177c5ebc9bc7e97",
       "version_major": 2,
       "version_minor": 0
      },
      "text/plain": [
       "  0%|          | 0/112 [00:00<?, ?it/s]"
      ]
     },
     "metadata": {},
     "output_type": "display_data"
    },
    {
     "name": "stdout",
     "output_type": "stream",
     "text": [
      "epoch 39/50, Loss: 0.0000168771\n"
     ]
    },
    {
     "data": {
      "application/vnd.jupyter.widget-view+json": {
       "model_id": "e87c3abfdf35429fb2e9c20bc6b851c9",
       "version_major": 2,
       "version_minor": 0
      },
      "text/plain": [
       "  0%|          | 0/112 [00:00<?, ?it/s]"
      ]
     },
     "metadata": {},
     "output_type": "display_data"
    },
    {
     "name": "stdout",
     "output_type": "stream",
     "text": [
      "epoch 40/50, Loss: 0.0000150243\n"
     ]
    },
    {
     "data": {
      "application/vnd.jupyter.widget-view+json": {
       "model_id": "bf5d0c2d4e644069958141aada0e7b8a",
       "version_major": 2,
       "version_minor": 0
      },
      "text/plain": [
       "  0%|          | 0/112 [00:00<?, ?it/s]"
      ]
     },
     "metadata": {},
     "output_type": "display_data"
    },
    {
     "name": "stdout",
     "output_type": "stream",
     "text": [
      "epoch 41/50, Loss: 0.0000137995\n"
     ]
    },
    {
     "data": {
      "application/vnd.jupyter.widget-view+json": {
       "model_id": "9d5929715fdc4043bbc3e1940d49f592",
       "version_major": 2,
       "version_minor": 0
      },
      "text/plain": [
       "  0%|          | 0/112 [00:00<?, ?it/s]"
      ]
     },
     "metadata": {},
     "output_type": "display_data"
    },
    {
     "name": "stdout",
     "output_type": "stream",
     "text": [
      "epoch 42/50, Loss: 0.0000140739\n"
     ]
    },
    {
     "data": {
      "application/vnd.jupyter.widget-view+json": {
       "model_id": "86b4a2e2dbda4e4099e0db4d13d33b87",
       "version_major": 2,
       "version_minor": 0
      },
      "text/plain": [
       "  0%|          | 0/112 [00:00<?, ?it/s]"
      ]
     },
     "metadata": {},
     "output_type": "display_data"
    },
    {
     "name": "stdout",
     "output_type": "stream",
     "text": [
      "epoch 43/50, Loss: 0.0000132696\n"
     ]
    },
    {
     "data": {
      "application/vnd.jupyter.widget-view+json": {
       "model_id": "a9ec9ea327744894873d6cf60045f005",
       "version_major": 2,
       "version_minor": 0
      },
      "text/plain": [
       "  0%|          | 0/112 [00:00<?, ?it/s]"
      ]
     },
     "metadata": {},
     "output_type": "display_data"
    },
    {
     "name": "stdout",
     "output_type": "stream",
     "text": [
      "epoch 44/50, Loss: 0.0000147191\n"
     ]
    },
    {
     "data": {
      "application/vnd.jupyter.widget-view+json": {
       "model_id": "fca83685c5d847bfbab67f799a01293d",
       "version_major": 2,
       "version_minor": 0
      },
      "text/plain": [
       "  0%|          | 0/112 [00:00<?, ?it/s]"
      ]
     },
     "metadata": {},
     "output_type": "display_data"
    },
    {
     "name": "stdout",
     "output_type": "stream",
     "text": [
      "epoch 45/50, Loss: 0.0000149923\n"
     ]
    },
    {
     "data": {
      "application/vnd.jupyter.widget-view+json": {
       "model_id": "463d6aa719e648fb8d5ae9d5a271f91e",
       "version_major": 2,
       "version_minor": 0
      },
      "text/plain": [
       "  0%|          | 0/112 [00:00<?, ?it/s]"
      ]
     },
     "metadata": {},
     "output_type": "display_data"
    },
    {
     "name": "stdout",
     "output_type": "stream",
     "text": [
      "epoch 46/50, Loss: 0.0000138635\n"
     ]
    },
    {
     "data": {
      "application/vnd.jupyter.widget-view+json": {
       "model_id": "f0ca005aba8746a0970a4530ff43d820",
       "version_major": 2,
       "version_minor": 0
      },
      "text/plain": [
       "  0%|          | 0/112 [00:00<?, ?it/s]"
      ]
     },
     "metadata": {},
     "output_type": "display_data"
    },
    {
     "name": "stdout",
     "output_type": "stream",
     "text": [
      "epoch 47/50, Loss: 0.0000153151\n"
     ]
    },
    {
     "data": {
      "application/vnd.jupyter.widget-view+json": {
       "model_id": "a023cec2ad6d4159afc307a481ddd09d",
       "version_major": 2,
       "version_minor": 0
      },
      "text/plain": [
       "  0%|          | 0/112 [00:00<?, ?it/s]"
      ]
     },
     "metadata": {},
     "output_type": "display_data"
    },
    {
     "name": "stdout",
     "output_type": "stream",
     "text": [
      "epoch 48/50, Loss: 0.0000137084\n"
     ]
    },
    {
     "data": {
      "application/vnd.jupyter.widget-view+json": {
       "model_id": "6ad661b0433a45a78a8b41c5b7f74d4c",
       "version_major": 2,
       "version_minor": 0
      },
      "text/plain": [
       "  0%|          | 0/112 [00:00<?, ?it/s]"
      ]
     },
     "metadata": {},
     "output_type": "display_data"
    },
    {
     "name": "stdout",
     "output_type": "stream",
     "text": [
      "epoch 49/50, Loss: 0.0000140045\n"
     ]
    },
    {
     "data": {
      "application/vnd.jupyter.widget-view+json": {
       "model_id": "7d88fd4398974f9a86c2caacac981bcc",
       "version_major": 2,
       "version_minor": 0
      },
      "text/plain": [
       "  0%|          | 0/112 [00:00<?, ?it/s]"
      ]
     },
     "metadata": {},
     "output_type": "display_data"
    },
    {
     "name": "stdout",
     "output_type": "stream",
     "text": [
      "epoch 50/50, Loss: 0.0000131412\n"
     ]
    }
   ],
   "source": [
    "loss_function2 = nn.MSELoss()\n",
    "optimizer2 = torch.optim.Adam(lstm2.parameters(), lr=0.001)\n",
    "\n",
    "epochs = 50\n",
    "scheduler = torch.optim.lr_scheduler.StepLR(optimizer, step_size = 10, gamma = 0.1)\n",
    "\n",
    "# retraining loop\n",
    "for epoch in range(epochs):\n",
    "    lstm2.train()\n",
    "    epoch_loss = 0\n",
    "    \n",
    "    for seq, labels in tqdm(train_loader2):\n",
    "        seq = seq.view(seq.size(0), seq.size(1), -1)\n",
    "        labels = labels.view(-1, 1)\n",
    "        \n",
    "        optimizer2.zero_grad()\n",
    "        \n",
    "        y_pred = lstm2(seq)\n",
    "        \n",
    "        single_loss = loss_function2(y_pred, labels)\n",
    "        \n",
    "        single_loss.backward()\n",
    "\n",
    "        torch.nn.utils.clip_grad_norm_(lstm2.parameters(), max_norm = 8)\n",
    "        \n",
    "        optimizer2.step()\n",
    "        \n",
    "        epoch_loss += single_loss.item()\n",
    "\n",
    "    scheduler.step()\n",
    "    \n",
    "    average_loss = epoch_loss / len(train_loader2)\n",
    "    print(f'epoch {epoch+1}/{epochs}, Loss: {average_loss:.10f}')"
   ]
  },
  {
   "cell_type": "code",
   "execution_count": 410,
   "id": "99a2e8be-7135-4380-98ae-a245844381af",
   "metadata": {},
   "outputs": [],
   "source": [
    "lstm2.eval()\n",
    "\n",
    "test_seq2 = torch.tensor([seq for seq, _ in test2], dtype = torch.float32)\n",
    "test_lab2 = torch.tensor([label for _, label in test2], dtype = torch.float32)\n",
    "\n",
    "with torch.no_grad():\n",
    "    preds2 = lstm2(test_seq2).view(-1)"
   ]
  },
  {
   "cell_type": "code",
   "execution_count": 412,
   "id": "cbe6cf12-4897-4246-97ba-b4d34b1101e7",
   "metadata": {},
   "outputs": [],
   "source": [
    "test_lab_new2 = scaler.inverse_transform(test_lab2.numpy().reshape(-1, 1))\n",
    "preds_new_2 = scaler.inverse_transform(preds2.numpy().reshape(-1, 1))"
   ]
  },
  {
   "cell_type": "code",
   "execution_count": 414,
   "id": "a543f619-d5c9-4acc-b6e2-bfd2b34d06fa",
   "metadata": {},
   "outputs": [],
   "source": [
    "test_lab_new__2 = np.array(test_lab_new2)\n",
    "preds_new__2 = np.array(preds_new_2)"
   ]
  },
  {
   "cell_type": "code",
   "execution_count": 416,
   "id": "ee84e5e5-3702-4fbc-a4da-bc0008cbacc9",
   "metadata": {},
   "outputs": [
    {
     "name": "stdout",
     "output_type": "stream",
     "text": [
      "Actual MAE: 5.429066\n",
      "Actual RMSE: 7.633894\n"
     ]
    }
   ],
   "source": [
    "print('Actual MAE:', mean_absolute_error(test_lab_new__2, preds_new__2))\n",
    "print('Actual RMSE:', np.sqrt(mean_squared_error(test_lab_new__2, preds_new__2)))"
   ]
  },
  {
   "cell_type": "code",
   "execution_count": 428,
   "id": "1afc2c59-a858-4860-bf63-995997c5db26",
   "metadata": {},
   "outputs": [
    {
     "data": {
      "image/png": "[encoded data removed]",
      "text/plain": [
       "<Figure size 640x480 with 1 Axes>"
      ]
     },
     "metadata": {},
     "output_type": "display_data"
    }
   ],
   "source": [
    "plt.plot(test_lab_new__2, color = 'blue')\n",
    "plt.plot(preds_new__2, color = 'red')\n",
    "plt.title('Predicted vs Actual Closing Price - Model 2')\n",
    "plt.legend([\"Predicted\", \"Actual\"])\n",
    "plt.ylabel('Closing Price ($)')\n",
    "plt.show()"
   ]
  },
  {
   "cell_type": "code",
   "execution_count": 426,
   "id": "bc524bf2-5b04-4ed1-a954-c9aa70bc920e",
   "metadata": {},
   "outputs": [
    {
     "data": {
      "image/png": "[encoded data removed]",
      "text/plain": [
       "<Figure size 640x480 with 1 Axes>"
      ]
     },
     "metadata": {},
     "output_type": "display_data"
    }
   ],
   "source": [
    "resid2 = test_lab_new__2 - preds_new__2\n",
    "\n",
    "plt.plot(resid2, label=\"Residuals\", color=\"cyan\")\n",
    "plt.axhline(0, color=\"black\", linestyle=\"--\", linewidth=1)\n",
    "plt.title(\"Residuals (Errors) Analysis - Model 2\")\n",
    "plt.ylabel(\"Residuals\")\n",
    "plt.show()"
   ]
  },
  {
   "cell_type": "code",
   "execution_count": 422,
   "id": "d3b37506-4ee4-417a-8daf-1155c4264e6e",
   "metadata": {},
   "outputs": [
    {
     "name": "stdout",
     "output_type": "stream",
     "text": [
      "Mean Bias: 5.1701\n"
     ]
    }
   ],
   "source": [
    "mean_bias2 = resid2.mean()\n",
    "print(f\"Mean Bias: {mean_bias2:.4f}\")"
   ]
  },
  {
   "cell_type": "markdown",
   "id": "59232098-a85a-49cb-850e-ab392b47a2e3",
   "metadata": {},
   "source": [
    "After removing the less correlated variables from the LSTM, there is notable improvement in predictive power and accuracy. The performance in both regions where the first model underperformed (600-800 and 1200-1600), the second model is better fixed to, meaning that this model is better equipped to handle volatility. The mean bias is still above 0, as highlighted by the graph and calculation, which means in general the model is still underpredicting stock value, but to a less extent than the previous LSTM did."
   ]
  }
 ],
 "metadata": {
  "kernelspec": {
   "display_name": "Python (tf-macos)",
   "language": "python",
   "name": "tf-macos"
  },
  "language_info": {
   "codemirror_mode": {
    "name": "ipython",
    "version": 3
   },
   "file_extension": ".py",
   "mimetype": "text/x-python",
   "name": "python",
   "nbconvert_exporter": "python",
   "pygments_lexer": "ipython3",
   "version": "3.12.7"
  }
 },
 "nbformat": 4,
 "nbformat_minor": 5
}
