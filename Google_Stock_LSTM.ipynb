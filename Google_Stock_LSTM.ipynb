{
 "cells": [
  {
   "cell_type": "markdown",
   "id": "46ebb3b4-3e03-4e01-b1a3-38a7d5d0c2ca",
   "metadata": {},
   "source": [
    "# Google Stock Price LSTM\n",
    "### By Mojisoluwa Awe"
   ]
  },
  {
   "cell_type": "code",
   "execution_count": 54,
   "id": "add1f964-a338-4ff8-a5b0-53bcfe052500",
   "metadata": {},
   "outputs": [],
   "source": [
    "import pandas as pd\n",
    "import numpy as np\n",
    "import matplotlib.pyplot as plt\n",
    "import torch\n",
    "from torch import nn\n",
    "from sklearn.preprocessing import MinMaxScaler\n",
    "from sklearn.metrics import mean_absolute_error, mean_squared_error\n",
    "from tqdm.notebook import tqdm"
   ]
  },
  {
   "cell_type": "code",
   "execution_count": 3,
   "id": "9e43622c-fe5a-44f5-886d-30645bfb1536",
   "metadata": {},
   "outputs": [
    {
     "data": {
      "text/html": [
       "<div>\n",
       "<style scoped>\n",
       "    .dataframe tbody tr th:only-of-type {\n",
       "        vertical-align: middle;\n",
       "    }\n",
       "\n",
       "    .dataframe tbody tr th {\n",
       "        vertical-align: top;\n",
       "    }\n",
       "\n",
       "    .dataframe thead th {\n",
       "        text-align: right;\n",
       "    }\n",
       "</style>\n",
       "<table border=\"1\" class=\"dataframe\">\n",
       "  <thead>\n",
       "    <tr style=\"text-align: right;\">\n",
       "      <th></th>\n",
       "      <th>Date</th>\n",
       "      <th>Open</th>\n",
       "      <th>High</th>\n",
       "      <th>Low</th>\n",
       "      <th>Close</th>\n",
       "      <th>Adj Close</th>\n",
       "      <th>Volume</th>\n",
       "    </tr>\n",
       "  </thead>\n",
       "  <tbody>\n",
       "    <tr>\n",
       "      <th>0</th>\n",
       "      <td>2004-08-19</td>\n",
       "      <td>2.502503</td>\n",
       "      <td>2.604104</td>\n",
       "      <td>2.401401</td>\n",
       "      <td>2.511011</td>\n",
       "      <td>2.501941</td>\n",
       "      <td>893181924</td>\n",
       "    </tr>\n",
       "    <tr>\n",
       "      <th>1</th>\n",
       "      <td>2004-08-20</td>\n",
       "      <td>2.527778</td>\n",
       "      <td>2.729730</td>\n",
       "      <td>2.515015</td>\n",
       "      <td>2.710460</td>\n",
       "      <td>2.700670</td>\n",
       "      <td>456686856</td>\n",
       "    </tr>\n",
       "    <tr>\n",
       "      <th>2</th>\n",
       "      <td>2004-08-23</td>\n",
       "      <td>2.771522</td>\n",
       "      <td>2.839840</td>\n",
       "      <td>2.728979</td>\n",
       "      <td>2.737738</td>\n",
       "      <td>2.727849</td>\n",
       "      <td>365122512</td>\n",
       "    </tr>\n",
       "    <tr>\n",
       "      <th>3</th>\n",
       "      <td>2004-08-24</td>\n",
       "      <td>2.783784</td>\n",
       "      <td>2.792793</td>\n",
       "      <td>2.591842</td>\n",
       "      <td>2.624374</td>\n",
       "      <td>2.614895</td>\n",
       "      <td>304946748</td>\n",
       "    </tr>\n",
       "    <tr>\n",
       "      <th>4</th>\n",
       "      <td>2004-08-25</td>\n",
       "      <td>2.626627</td>\n",
       "      <td>2.702703</td>\n",
       "      <td>2.599600</td>\n",
       "      <td>2.652653</td>\n",
       "      <td>2.643072</td>\n",
       "      <td>183772044</td>\n",
       "    </tr>\n",
       "  </tbody>\n",
       "</table>\n",
       "</div>"
      ],
      "text/plain": [
       "         Date      Open      High       Low     Close  Adj Close     Volume\n",
       "0  2004-08-19  2.502503  2.604104  2.401401  2.511011   2.501941  893181924\n",
       "1  2004-08-20  2.527778  2.729730  2.515015  2.710460   2.700670  456686856\n",
       "2  2004-08-23  2.771522  2.839840  2.728979  2.737738   2.727849  365122512\n",
       "3  2004-08-24  2.783784  2.792793  2.591842  2.624374   2.614895  304946748\n",
       "4  2004-08-25  2.626627  2.702703  2.599600  2.652653   2.643072  183772044"
      ]
     },
     "execution_count": 3,
     "metadata": {},
     "output_type": "execute_result"
    }
   ],
   "source": [
    "df = pd.read_csv('GOOGL_2004-08-01_2024-12-18.csv')\n",
    "df.head()"
   ]
  },
  {
   "cell_type": "code",
   "execution_count": 11,
   "id": "772b9310-7ad8-43c0-bce3-7bcb53b4bc29",
   "metadata": {},
   "outputs": [
    {
     "name": "stdout",
     "output_type": "stream",
     "text": [
      "<class 'pandas.core.frame.DataFrame'>\n",
      "RangeIndex: 5118 entries, 0 to 5117\n",
      "Data columns (total 7 columns):\n",
      " #   Column     Non-Null Count  Dtype         \n",
      "---  ------     --------------  -----         \n",
      " 0   Date       5118 non-null   datetime64[ns]\n",
      " 1   Open       5118 non-null   float64       \n",
      " 2   High       5118 non-null   float64       \n",
      " 3   Low        5118 non-null   float64       \n",
      " 4   Close      5118 non-null   float64       \n",
      " 5   Adj Close  5118 non-null   float64       \n",
      " 6   Volume     5118 non-null   int64         \n",
      "dtypes: datetime64[ns](1), float64(5), int64(1)\n",
      "memory usage: 280.0 KB\n",
      "None\n"
     ]
    }
   ],
   "source": [
    "df['Date'] = pd.to_datetime(df.Date)\n",
    "print(df.info())"
   ]
  },
  {
   "cell_type": "code",
   "execution_count": 12,
   "id": "7b68231e-7dc2-4323-9eaa-74a9e7c49c75",
   "metadata": {},
   "outputs": [
    {
     "data": {
      "text/html": [
       "<div>\n",
       "<style scoped>\n",
       "    .dataframe tbody tr th:only-of-type {\n",
       "        vertical-align: middle;\n",
       "    }\n",
       "\n",
       "    .dataframe tbody tr th {\n",
       "        vertical-align: top;\n",
       "    }\n",
       "\n",
       "    .dataframe thead th {\n",
       "        text-align: right;\n",
       "    }\n",
       "</style>\n",
       "<table border=\"1\" class=\"dataframe\">\n",
       "  <thead>\n",
       "    <tr style=\"text-align: right;\">\n",
       "      <th></th>\n",
       "      <th>Date</th>\n",
       "      <th>Open</th>\n",
       "      <th>High</th>\n",
       "      <th>Low</th>\n",
       "      <th>Close</th>\n",
       "      <th>Adj Close</th>\n",
       "      <th>Volume</th>\n",
       "    </tr>\n",
       "  </thead>\n",
       "  <tbody>\n",
       "    <tr>\n",
       "      <th>5113</th>\n",
       "      <td>2024-12-11</td>\n",
       "      <td>185.309998</td>\n",
       "      <td>195.610001</td>\n",
       "      <td>184.850006</td>\n",
       "      <td>195.399994</td>\n",
       "      <td>195.399994</td>\n",
       "      <td>67894100</td>\n",
       "    </tr>\n",
       "    <tr>\n",
       "      <th>5114</th>\n",
       "      <td>2024-12-12</td>\n",
       "      <td>195.000000</td>\n",
       "      <td>195.179993</td>\n",
       "      <td>191.710007</td>\n",
       "      <td>191.960007</td>\n",
       "      <td>191.960007</td>\n",
       "      <td>34817500</td>\n",
       "    </tr>\n",
       "    <tr>\n",
       "      <th>5115</th>\n",
       "      <td>2024-12-13</td>\n",
       "      <td>191.009995</td>\n",
       "      <td>192.729996</td>\n",
       "      <td>189.639999</td>\n",
       "      <td>189.820007</td>\n",
       "      <td>189.820007</td>\n",
       "      <td>25143500</td>\n",
       "    </tr>\n",
       "    <tr>\n",
       "      <th>5116</th>\n",
       "      <td>2024-12-16</td>\n",
       "      <td>192.869995</td>\n",
       "      <td>199.000000</td>\n",
       "      <td>192.619995</td>\n",
       "      <td>196.660004</td>\n",
       "      <td>196.660004</td>\n",
       "      <td>44934900</td>\n",
       "    </tr>\n",
       "    <tr>\n",
       "      <th>5117</th>\n",
       "      <td>2024-12-17</td>\n",
       "      <td>197.250000</td>\n",
       "      <td>201.419998</td>\n",
       "      <td>194.979996</td>\n",
       "      <td>195.419998</td>\n",
       "      <td>195.419998</td>\n",
       "      <td>43482900</td>\n",
       "    </tr>\n",
       "  </tbody>\n",
       "</table>\n",
       "</div>"
      ],
      "text/plain": [
       "           Date        Open        High         Low       Close   Adj Close  \\\n",
       "5113 2024-12-11  185.309998  195.610001  184.850006  195.399994  195.399994   \n",
       "5114 2024-12-12  195.000000  195.179993  191.710007  191.960007  191.960007   \n",
       "5115 2024-12-13  191.009995  192.729996  189.639999  189.820007  189.820007   \n",
       "5116 2024-12-16  192.869995  199.000000  192.619995  196.660004  196.660004   \n",
       "5117 2024-12-17  197.250000  201.419998  194.979996  195.419998  195.419998   \n",
       "\n",
       "        Volume  \n",
       "5113  67894100  \n",
       "5114  34817500  \n",
       "5115  25143500  \n",
       "5116  44934900  \n",
       "5117  43482900  "
      ]
     },
     "execution_count": 12,
     "metadata": {},
     "output_type": "execute_result"
    }
   ],
   "source": [
    "df.tail()"
   ]
  },
  {
   "cell_type": "code",
   "execution_count": 18,
   "id": "54cc2d84-0ba4-4c9f-9f4f-ea323a144070",
   "metadata": {},
   "outputs": [],
   "source": [
    "df = df.sort_values(by = 'Date')\n",
    "#df.head()"
   ]
  },
  {
   "cell_type": "code",
   "execution_count": 19,
   "id": "2ec28ec7-57c5-436e-a6ae-07b687cdb3d9",
   "metadata": {},
   "outputs": [],
   "source": [
    "price_feat = df[['Open', 'High', 'Low', 'Close', 'Adj Close']]\n",
    "#price_feat[:5]"
   ]
  },
  {
   "cell_type": "code",
   "execution_count": 20,
   "id": "f90c96e0-f16e-4190-9614-cc6595756d57",
   "metadata": {},
   "outputs": [],
   "source": [
    "scaler = MinMaxScaler(feature_range = (-1, 1))\n",
    "price_feat = scaler.fit_transform(price_feat.values)"
   ]
  },
  {
   "cell_type": "code",
   "execution_count": 22,
   "id": "6ea435aa-f011-4568-b218-8ec65286c6fd",
   "metadata": {},
   "outputs": [],
   "source": [
    "#price_feat[:5]"
   ]
  },
  {
   "cell_type": "markdown",
   "id": "c8f6a22e-e0f7-404a-a745-51fb4cb3b0ce",
   "metadata": {},
   "source": [
    "## Testing & Training Set Creation"
   ]
  },
  {
   "cell_type": "code",
   "execution_count": 25,
   "id": "30d4296e-48f4-4187-8760-78f73342702c",
   "metadata": {},
   "outputs": [
    {
     "name": "stdout",
     "output_type": "stream",
     "text": [
      "Length: 5118\n",
      "size of data:  5111\n",
      "size of train:  3611\n",
      "size of test:  1500\n"
     ]
    }
   ],
   "source": [
    "train_window = 7\n",
    "\n",
    "def create_in_out_sequences(price, tw):\n",
    "    inout_seq = []\n",
    "    L = len(price)\n",
    "    print('Length:', L)\n",
    "    \n",
    "    for i in range(L-tw):\n",
    "        data_seq = price[i : i+tw]\n",
    "        data_label = price[i+tw : i+tw+1][0][3]\n",
    "        inout_seq.append((data_seq, data_label))\n",
    "    \n",
    "    data = inout_seq;\n",
    "    print('size of data: ', len(data))\n",
    "    \n",
    "    test_set_size = 1500\n",
    "    train_set_size = len(data) - test_set_size\n",
    "    print('size of train: ', train_set_size)\n",
    "    print('size of test: ', test_set_size)\n",
    "    \n",
    "    train = data[:train_set_size]\n",
    "    test = data[train_set_size:]\n",
    "    train = train[: -(tw-1)]\n",
    "    return train, test\n",
    "\n",
    "train, test = create_in_out_sequences(price_feat, train_window)"
   ]
  },
  {
   "cell_type": "code",
   "execution_count": 28,
   "id": "d86f78eb-f1a6-4522-9269-41f3ca8d4c5e",
   "metadata": {},
   "outputs": [
    {
     "name": "stdout",
     "output_type": "stream",
     "text": [
      "(array([[-0.4956068 , -0.50383192, -0.51543835, -0.5152409 , -0.5170143 ],\n",
      "       [-0.52010779, -0.51667926, -0.51727139, -0.51862989, -0.52039091],\n",
      "       [-0.51308915, -0.49841139, -0.50948756, -0.48608925, -0.48796936],\n",
      "       [-0.49860524, -0.49595255, -0.50203606, -0.48348828, -0.4853779 ],\n",
      "       [-0.48150798, -0.49047674, -0.48386167, -0.48669188, -0.48856975],\n",
      "       [-0.48236541, -0.49110021, -0.48851429, -0.48757775, -0.48945236],\n",
      "       [-0.49809181, -0.49220645, -0.49254382, -0.48257149, -0.48446441]]), -0.49761602665506377)\n",
      "(array([[-0.47248183, -0.47664889, -0.46829918, -0.47275986, -0.47468868],\n",
      "       [-0.47320577, -0.47831322, -0.47192367, -0.47285775, -0.47478621],\n",
      "       [-0.48124099, -0.48671053, -0.48003466, -0.48410121, -0.48598859],\n",
      "       [-0.48792075, -0.49140696, -0.49703548, -0.49752329, -0.49936156],\n",
      "       [-0.49460048, -0.49275957, -0.48984364, -0.48837606, -0.49024777],\n",
      "       [-0.48777699, -0.48470423, -0.49558154, -0.49247071, -0.49432745],\n",
      "       [-0.49870795, -0.49891924, -0.50158946, -0.49858944, -0.50042373]]), -0.5152409006115276)\n"
     ]
    }
   ],
   "source": [
    "print(test[0])\n",
    "print(train[-1])"
   ]
  },
  {
   "cell_type": "markdown",
   "id": "9d586ba5-cab2-4e67-b0d6-8c8f64633eb7",
   "metadata": {},
   "source": [
    "## Building the LSTM"
   ]
  },
  {
   "cell_type": "code",
   "execution_count": 38,
   "id": "c1aa3809-11e7-4014-9154-9de0ce6fa7db",
   "metadata": {},
   "outputs": [],
   "source": [
    "class LSTM(nn.Module):\n",
    "    def __init__(self, input_size = 5, hidden_layer_size = 100, output_size = 1):\n",
    "        super().__init__()\n",
    "        self.hidden_layer_size = hidden_layer_size\n",
    "        \n",
    "        self.lstm = nn.LSTM(input_size, hidden_layer_size)\n",
    "        \n",
    "        self.linear = nn.Linear(hidden_layer_size, output_size)\n",
    "    \n",
    "    def forward(self, input_seq):\n",
    "        hidden_cell = (torch.zeros(1, 1, self.hidden_layer_size),\n",
    "                      torch.zeros(1, 1, self.hidden_layer_size),\n",
    "                      )\n",
    "        lstm_out, hidden_cell = self.lstm(input_seq.view(len(input_seq), 1, -1), hidden_cell)\n",
    "        predictions = self.linear(lstm_out.view(len(input_seq), -1))\n",
    "        return predictions[-1]"
   ]
  },
  {
   "cell_type": "code",
   "execution_count": 39,
   "id": "b2f43172-7786-440b-9164-a36c759e0449",
   "metadata": {},
   "outputs": [],
   "source": [
    "model = LSTM()\n",
    "loss_function = nn.MSELoss()\n",
    "optimizer = torch.optim.Adam(model.parameters(), lr = 0.001)"
   ]
  },
  {
   "cell_type": "markdown",
   "id": "8e336bfc-3236-4a05-aff9-7e5d327ca12a",
   "metadata": {},
   "source": [
    "## Model Training"
   ]
  },
  {
   "cell_type": "code",
   "execution_count": 40,
   "id": "23ddde73-3e05-4299-910e-297103df7297",
   "metadata": {},
   "outputs": [
    {
     "data": {
      "application/vnd.jupyter.widget-view+json": {
       "model_id": "7a2bde63aa914bfaa27b829925267ff0",
       "version_major": 2,
       "version_minor": 0
      },
      "text/plain": [
       "  0%|          | 0/4 [00:00<?, ?it/s]"
      ]
     },
     "metadata": {},
     "output_type": "display_data"
    },
    {
     "data": {
      "application/vnd.jupyter.widget-view+json": {
       "model_id": "86bf1a0dbf8d4e309093082b8f6c3d24",
       "version_major": 2,
       "version_minor": 0
      },
      "text/plain": [
       "  0%|          | 0/3605 [00:00<?, ?it/s]"
      ]
     },
     "metadata": {},
     "output_type": "display_data"
    },
    {
     "name": "stdout",
     "output_type": "stream",
     "text": [
      "epoch   0 loss: 0.0027113544\n"
     ]
    },
    {
     "data": {
      "application/vnd.jupyter.widget-view+json": {
       "model_id": "216cc7f45bc24311af7b757b85654280",
       "version_major": 2,
       "version_minor": 0
      },
      "text/plain": [
       "  0%|          | 0/3605 [00:00<?, ?it/s]"
      ]
     },
     "metadata": {},
     "output_type": "display_data"
    },
    {
     "name": "stdout",
     "output_type": "stream",
     "text": [
      "epoch   1 loss: 0.0002111221\n"
     ]
    },
    {
     "data": {
      "application/vnd.jupyter.widget-view+json": {
       "model_id": "e25678d05dd34f05a3ee04d4dc402729",
       "version_major": 2,
       "version_minor": 0
      },
      "text/plain": [
       "  0%|          | 0/3605 [00:00<?, ?it/s]"
      ]
     },
     "metadata": {},
     "output_type": "display_data"
    },
    {
     "name": "stdout",
     "output_type": "stream",
     "text": [
      "epoch   2 loss: 0.0002848963\n"
     ]
    },
    {
     "data": {
      "application/vnd.jupyter.widget-view+json": {
       "model_id": "f42b9d768d8f44e68c38b0da0c4c66af",
       "version_major": 2,
       "version_minor": 0
      },
      "text/plain": [
       "  0%|          | 0/3605 [00:00<?, ?it/s]"
      ]
     },
     "metadata": {},
     "output_type": "display_data"
    },
    {
     "name": "stdout",
     "output_type": "stream",
     "text": [
      "epoch   3 loss: 0.0004054496\n"
     ]
    }
   ],
   "source": [
    "epochs = 4\n",
    "\n",
    "for i in tqdm(range(epochs)):\n",
    "    epoch_loss = 0\n",
    "    for seq, labels in tqdm(train):\n",
    "        seq = torch.from_numpy(np.array(seq)).type(torch.FloatTensor)\n",
    "        labels = torch.from_numpy(np.array(labels)).type(torch.FloatTensor)\n",
    "        \n",
    "        optimizer.zero_grad()\n",
    "        \n",
    "        y_pred = model(seq)\n",
    "        \n",
    "        labels = labels.view(1)\n",
    "        \n",
    "        single_loss = loss_function(y_pred, labels)\n",
    "        single_loss.backward()\n",
    "        optimizer.step()\n",
    "        \n",
    "        epoch_loss += single_loss.item()\n",
    "    \n",
    "    average_loss = epoch_loss / len(train)\n",
    "    print(f'epoch {i:3} loss: {average_loss:.10f}')"
   ]
  },
  {
   "cell_type": "code",
   "execution_count": 41,
   "id": "e312ff6a-a6ae-475b-9f90-407f14a320a4",
   "metadata": {},
   "outputs": [],
   "source": [
    "model.eval()\n",
    "actual = []\n",
    "pred = []\n",
    "\n",
    "for seq, labels in test:\n",
    "    seq = torch.from_numpy(np.array(seq)).type(torch.FloatTensor)\n",
    "    labels = torch.from_numpy(np.array(labels)).type(torch.FloatTensor)\n",
    "    actual.append(labels.item())\n",
    "    with torch.no_grad():\n",
    "        pred.append(model(seq).item())\n",
    "\n",
    "actual = np.array(actual)\n",
    "pred = np.array(pred)"
   ]
  },
  {
   "cell_type": "code",
   "execution_count": 43,
   "id": "bc306a28-b6c1-4918-b81a-6a00197bfba9",
   "metadata": {},
   "outputs": [],
   "source": [
    "actual = torch.from_numpy(np.array(actual)).type(torch.Tensor)\n",
    "pred = torch.from_numpy(np.array(actual)).type(torch.Tensor)"
   ]
  },
  {
   "cell_type": "code",
   "execution_count": 45,
   "id": "5c19eed5-a53f-433f-a739-6067671c7c04",
   "metadata": {},
   "outputs": [
    {
     "name": "stdout",
     "output_type": "stream",
     "text": [
      "tensor([-0.4976, -0.4705, -0.4716,  ...,  0.9295,  1.0000,  0.9872])\n",
      "tensor([-0.4976, -0.4705, -0.4716,  ...,  0.9295,  1.0000,  0.9872])\n"
     ]
    }
   ],
   "source": [
    "print(pred)\n",
    "print(actual)"
   ]
  },
  {
   "cell_type": "code",
   "execution_count": 48,
   "id": "72588d33-a913-4f80-b15e-907cdb0b2e42",
   "metadata": {},
   "outputs": [
    {
     "name": "stdout",
     "output_type": "stream",
     "text": [
      "[99.58137834 99.58137834 99.58137834 ... 99.58137834 99.58137834\n",
      " 99.58137834]\n"
     ]
    }
   ],
   "source": [
    "pred_new = scaler.inverse_transform(np.c_[np.zeros(1500), np.zeros(1500), np.zeros(1500), np.zeros(1500), np.array(pred)])\n",
    "print(pred_new[:, 3])"
   ]
  },
  {
   "cell_type": "code",
   "execution_count": 53,
   "id": "f50711d3-ef95-41f0-a2a4-0666ab7306b1",
   "metadata": {},
   "outputs": [
    {
     "name": "stdout",
     "output_type": "stream",
     "text": [
      "[99.58137834 99.58137834 99.58137834 ... 99.58137834 99.58137834\n",
      " 99.58137834]\n"
     ]
    }
   ],
   "source": [
    "actual_new = scaler.inverse_transform(np.c_[np.zeros(1500), np.zeros(1500), np.zeros(1500), np.zeros(1500), np.array(actual)])\n",
    "print(actual_new[:, 3])"
   ]
  },
  {
   "cell_type": "code",
   "execution_count": 56,
   "id": "a72d84de-fa08-46ad-976a-28ffbc904b64",
   "metadata": {},
   "outputs": [
    {
     "name": "stdout",
     "output_type": "stream",
     "text": [
      "MAE:  0.0\n",
      "RMSE:  0.0\n"
     ]
    }
   ],
   "source": [
    "print('MAE: ', mean_absolute_error(actual_new, pred_new))\n",
    "print('RMSE: ', np.sqrt(mean_squared_error(actual_new, pred_new)))"
   ]
  }
 ],
 "metadata": {
  "kernelspec": {
   "display_name": "Python 3 (ipykernel)",
   "language": "python",
   "name": "python3"
  },
  "language_info": {
   "codemirror_mode": {
    "name": "ipython",
    "version": 3
   },
   "file_extension": ".py",
   "mimetype": "text/x-python",
   "name": "python",
   "nbconvert_exporter": "python",
   "pygments_lexer": "ipython3",
   "version": "3.12.7"
  }
 },
 "nbformat": 4,
 "nbformat_minor": 5
}
